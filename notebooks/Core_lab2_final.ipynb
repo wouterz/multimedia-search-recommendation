{
 "cells": [
  {
   "cell_type": "markdown",
   "metadata": {},
   "source": [
    "# Lab 2: Image similarity\n",
    "\n",
    "In today's lab, we will look into image similarity, considering a dataset of film posters which is available on your virtual machine (under <code>/home/student/data</code>, our utililty code already knows of this path and will load the data automagically).\n",
    "\n",
    "If you would like to examine the posters on your host machine, feel free to download the zip offered to Blackboard.\n",
    "\n",
    "As the <b>final deliverable</b> to demonstrate your successful completion, please submit a text file through Brightspace. \n",
    "Please name the file  [studentNumberMember1_studentNumberMember2_ranking.txt]. \n",
    "\n",
    "This file should:\n",
    "* contain a formatted top-10 ranking for a feature-similarity measure configuration you considered to be strong. Please see the 'Final Assignment' instructions at the end of the notebook for the necessary formatting code.\n",
    "* below the ranking, a short reflection (± 200 words) in which you explain why you thought this ranking was strong, and indicate what visual features you would wish to use or develop if you would like to do film genre classification based on visual poster features."
   ]
  },
  {
   "cell_type": "markdown",
   "metadata": {},
   "source": [
    "## Do you have the latest version of the utility code and data?\n",
    "\n",
    "To ensure you have the latest version of the code, please log into the VM.\n",
    "\n",
    "You can login through SSH or through the VirtualBox window [login: <code>student</code>, password: <code>3m3mCL4b</code>];\n",
    "also refer the instructions at [Brightspace](https://brightspace.tudelft.nl/) if you don't know how to do this.\n",
    "\n",
    "In your terminal window, do the following from your home directory:\n",
    "\n",
    "<code>$ cd ~/pylib/cs4065 \n",
    "$ git pull</code>\n",
    "\n",
    "The <code>poster_images</code> folder with movie posters already is on the VM and configured properly.\n",
    "\n",
    "<b>In case the repository was not already up to date, please restart the kernel through the top menu (<code>Kernel > Restart</code>) before proceeding</b>.\n"
   ]
  },
  {
   "cell_type": "markdown",
   "metadata": {},
   "source": [
    "## Let's get you going!\n",
    "We will first import all necessary Python modules. Hit 'ctrl-enter' (or the 'run cell button', on the left of the 'stop' icon) to execute the import statements in the cells below."
   ]
  },
  {
   "cell_type": "code",
   "execution_count": 2,
   "metadata": {},
   "outputs": [
    {
     "ename": "ImportError",
     "evalue": "No module named cv2",
     "output_type": "error",
     "traceback": [
      "\u001b[0;31m\u001b[0m",
      "\u001b[0;31mImportError\u001b[0mTraceback (most recent call last)",
      "\u001b[0;32m<ipython-input-2-7e2f8f7d467f>\u001b[0m in \u001b[0;36m<module>\u001b[0;34m()\u001b[0m\n\u001b[1;32m      6\u001b[0m \u001b[0;34m\u001b[0m\u001b[0m\n\u001b[1;32m      7\u001b[0m \u001b[0;31m# Import extra Python modules.\u001b[0m\u001b[0;34m\u001b[0m\u001b[0;34m\u001b[0m\u001b[0m\n\u001b[0;32m----> 8\u001b[0;31m \u001b[0;32mimport\u001b[0m \u001b[0mcv2\u001b[0m\u001b[0;34m\u001b[0m\u001b[0m\n\u001b[0m\u001b[1;32m      9\u001b[0m \u001b[0;32mimport\u001b[0m \u001b[0mmatplotlib\u001b[0m\u001b[0;34m.\u001b[0m\u001b[0mpyplot\u001b[0m \u001b[0;32mas\u001b[0m \u001b[0mplt\u001b[0m\u001b[0;34m\u001b[0m\u001b[0m\n\u001b[1;32m     10\u001b[0m \u001b[0;31m# Make matplotlib plot inline in the notebook\u001b[0m\u001b[0;34m\u001b[0m\u001b[0;34m\u001b[0m\u001b[0m\n",
      "\u001b[0;31mImportError\u001b[0m: No module named cv2"
     ]
    }
   ],
   "source": [
    "# Import standard Python modules.\n",
    "import numpy as np\n",
    "import os\n",
    "from pprint import pprint\n",
    "import sys\n",
    "\n",
    "# Import extra Python modules.\n",
    "import cv2\n",
    "import matplotlib.pyplot as plt\n",
    "# Make matplotlib plot inline in the notebook\n",
    "%matplotlib inline \n",
    "from scipy.spatial.distance import euclidean\n",
    "from scipy.spatial.distance import pdist\n",
    "from scipy.spatial.distance import squareform"
   ]
  },
  {
   "cell_type": "code",
   "execution_count": 3,
   "metadata": {},
   "outputs": [
    {
     "ename": "ImportError",
     "evalue": "No module named cv2",
     "output_type": "error",
     "traceback": [
      "\u001b[0;31m\u001b[0m",
      "\u001b[0;31mImportError\u001b[0mTraceback (most recent call last)",
      "\u001b[0;32m<ipython-input-3-28be5e09cb71>\u001b[0m in \u001b[0;36m<module>\u001b[0;34m()\u001b[0m\n\u001b[1;32m      2\u001b[0m \u001b[0;34m\u001b[0m\u001b[0m\n\u001b[1;32m      3\u001b[0m \u001b[0;32mfrom\u001b[0m \u001b[0mdatasets\u001b[0m \u001b[0;32mimport\u001b[0m \u001b[0mCS4065_Dataset\u001b[0m\u001b[0;34m\u001b[0m\u001b[0m\n\u001b[0;32m----> 4\u001b[0;31m \u001b[0;32mfrom\u001b[0m \u001b[0mcvtools\u001b[0m \u001b[0;32mimport\u001b[0m \u001b[0mipynb_show_color_histogram\u001b[0m\u001b[0;34m\u001b[0m\u001b[0m\n\u001b[0m\u001b[1;32m      5\u001b[0m \u001b[0;32mfrom\u001b[0m \u001b[0mcvtools\u001b[0m \u001b[0;32mimport\u001b[0m \u001b[0mipynb_show_cv2_image\u001b[0m\u001b[0;34m\u001b[0m\u001b[0m\n\u001b[1;32m      6\u001b[0m \u001b[0;32mfrom\u001b[0m \u001b[0mcvtools\u001b[0m \u001b[0;32mimport\u001b[0m \u001b[0mipynb_show_matrix\u001b[0m\u001b[0;34m\u001b[0m\u001b[0m\n",
      "\u001b[0;32m/home/wouter/Documents/MMSR_lab/cs4065/cvtools.py\u001b[0m in \u001b[0;36m<module>\u001b[0;34m()\u001b[0m\n\u001b[1;32m      2\u001b[0m \u001b[0;32mimport\u001b[0m \u001b[0mos\u001b[0m\u001b[0;34m\u001b[0m\u001b[0m\n\u001b[1;32m      3\u001b[0m \u001b[0;34m\u001b[0m\u001b[0m\n\u001b[0;32m----> 4\u001b[0;31m \u001b[0;32mimport\u001b[0m \u001b[0mcv2\u001b[0m\u001b[0;34m\u001b[0m\u001b[0m\n\u001b[0m\u001b[1;32m      5\u001b[0m \u001b[0;32mimport\u001b[0m \u001b[0mmatplotlib\u001b[0m\u001b[0;34m.\u001b[0m\u001b[0mpyplot\u001b[0m \u001b[0;32mas\u001b[0m \u001b[0mplt\u001b[0m\u001b[0;34m\u001b[0m\u001b[0m\n\u001b[1;32m      6\u001b[0m \u001b[0;34m\u001b[0m\u001b[0m\n",
      "\u001b[0;31mImportError\u001b[0m: No module named cv2"
     ]
    }
   ],
   "source": [
    "# import utility code from our lab\n",
    "\n",
    "from datasets import CS4065_Dataset\n",
    "from cvtools import ipynb_show_color_histogram\n",
    "from cvtools import ipynb_show_cv2_image\n",
    "from cvtools import ipynb_show_matrix\n"
   ]
  },
  {
   "cell_type": "code",
   "execution_count": null,
   "metadata": {},
   "outputs": [],
   "source": [
    "# Function handle to HSV conversion for OpenCV2 version 3.0 and higher\n",
    "_CV2_BGR2HSV = cv2.COLOR_BGR2HSV\n",
    "\n",
    "# If using OpenCV2 version 2.x the name is different\n",
    "# _CV2_BGR2HSV = cv2.cv.CV_BGR2HSV"
   ]
  },
  {
   "cell_type": "markdown",
   "metadata": {},
   "source": [
    "### 'BGR2HSV', did I read that correctly?\n",
    "...yes, you did. There are a few not-too-trivial things about OpenCV, one of them being that RGB images are stored in the order Blue-Green-Red rather than Red-Green-Blue.\n",
    "\n",
    "We did consciously choose for a Python-OpenCV setup though, rather than e.g. Matlab (in which image processing would admittedly be a bit more intuitive), as we feel it would be good for you to get some hands-on experience on open source tools.\n",
    "\n",
    "In many cases, we will abstract away some gorier OpenCV details by lab utility code in the <code>cvtools</code> module. If you are interested in learning more about this, check out the source code on the VM (<code>/home/student/pylib/cs4065/cvtools.py</code>) or on Gitlab: <code>https://gitlab.ewi.tudelft.nl/mmc-tudelft/education/cs4065/blob/master/cvtools.py</code>."
   ]
  },
  {
   "cell_type": "markdown",
   "metadata": {},
   "source": [
    "## Now, let's start!\n",
    "Let's first load the dataset."
   ]
  },
  {
   "cell_type": "code",
   "execution_count": null,
   "metadata": {},
   "outputs": [],
   "source": [
    "# Load dataset of images.\n",
    "cs4065_data = CS4065_Dataset()\n",
    "poster_images = cs4065_data.get_poster_images()"
   ]
  },
  {
   "cell_type": "markdown",
   "metadata": {},
   "source": [
    "We will now print the length of our poster array, and the path to the first image referred to in the array."
   ]
  },
  {
   "cell_type": "code",
   "execution_count": null,
   "metadata": {},
   "outputs": [],
   "source": [
    "print(len(poster_images))  # Number of images.\n",
    "print(poster_images[0])  # Path to the first image."
   ]
  },
  {
   "cell_type": "markdown",
   "metadata": {},
   "source": [
    "Now, let's see what this image looks like."
   ]
  },
  {
   "cell_type": "code",
   "execution_count": null,
   "metadata": {},
   "outputs": [],
   "source": [
    "# Load and show an image.\n",
    "image = cv2.imread(poster_images[0])\n",
    "ipynb_show_cv2_image(image) # OpenCV is not as trivial with image display, but you can use our utility code for this.\n",
    "print(np.shape(image)) # We verify the dimensions of this image."
   ]
  },
  {
   "cell_type": "markdown",
   "metadata": {},
   "source": [
    "## Question\n",
    "What do these three printed numbers indicate?"
   ]
  },
  {
   "cell_type": "markdown",
   "metadata": {},
   "source": [
    "## Drawing on the image\n",
    "As you heard in the lecture, an image can be seen as a matrix (or a 2-D signal). Let's modify some of the matrix values to draw rectangles in the poster."
   ]
  },
  {
   "cell_type": "code",
   "execution_count": null,
   "metadata": {},
   "outputs": [],
   "source": [
    "# Let's modify the image a little bit\n",
    "# (see https://docs.opencv.org/3.0-beta/modules/imgproc/doc/drawing_functions.html\n",
    "# and https://docs.opencv.org/3.1.0/dc/da5/tutorial_py_drawing_functions.html)\n",
    "\n",
    "# We modify a copy of the image.\n",
    "image_modified = image.copy()\n",
    "\n",
    "# As mentioned, OpenCV works with the BGR format (by default)\n",
    "cv2.rectangle(image_modified, (60, 175), (120, 230), (0, 0, 255))\n",
    "cv2.rectangle(image_modified, (110, 110), (180, 195), (255, 0, 0))\n",
    "\n",
    "# Use figsize to change the plot dimension\n",
    "ipynb_show_cv2_image(image_modified, figsize=(10, 10))  "
   ]
  },
  {
   "cell_type": "markdown",
   "metadata": {},
   "source": [
    "## Question\n",
    "Modify and rerun the code above to draw differently colored rectangles at different places in the image. What do the second, third and fourth parameter of <code>cv2.rectangle</code> indicate? Does this function use (x, y) or (i, j) indexing?"
   ]
  },
  {
   "cell_type": "markdown",
   "metadata": {},
   "source": [
    "## Feature extraction\n",
    "Now, we continue extracting features from the images."
   ]
  },
  {
   "cell_type": "code",
   "execution_count": null,
   "metadata": {},
   "outputs": [],
   "source": [
    "# Extract global histogram features from images.\n",
    "\n",
    "# Within a notebook, we cannot just enter scripting commands,\n",
    "# (as we did so far), but we can also define local functions.\n",
    "# As soon as you execute the cell with a function, it will be in scope\n",
    "# for the full notebook.\n",
    "\n",
    "# We now define a general function that extracts histograms.\n",
    "def compute_histogram(image, channels, bins, ranges):\n",
    "  # We return the histogram as a single vector, in which the three sub-histograms are concatenated.\n",
    "  histogram = np.zeros(np.sum(bins))\n",
    "  \n",
    "  # We generate a histogram per channel, and then add it to the single-vector histogram.\n",
    "  for i in range(0, len(channels)):\n",
    "    channel = channels[i]\n",
    "    channel_bins = bins[i]\n",
    "    channel_range = ranges[i]\n",
    "    channel_histogram = cv2.calcHist(\n",
    "        [image],\n",
    "        [channel],\n",
    "        None, # one could specify an optional mask here (we don't use this here),\n",
    "        [channel_bins],\n",
    "        channel_range\n",
    "        )\n",
    "        \n",
    "    # Now we copy these values to the right indices in our single-vector histogram.\n",
    "    start_index = int(np.sum(bins[0:channel]))\n",
    "    end_index = start_index + channel_bins\n",
    "    histogram[start_index:end_index] = channel_histogram.flatten()\n",
    "\n",
    "  return histogram\n",
    "\n",
    "# Using the compute_histogram function, we can calculate a bgr histogram\n",
    "def compute_bgr_histogram(image, bins_per_channel):\n",
    "  channels = [0, 1, 2] # List of channels to analyze.\n",
    "  ranges = [[0, 256], [0, 256], [0, 256]] # Range per channel.\n",
    "  return compute_histogram(image, channels, bins_per_channel, ranges)\n",
    "\n",
    "\n",
    "# Let's add a function for HSV histograms as well.\n",
    "# Note that 'H' values go from 0 to 180, rather than 0 to 255.\n",
    "# Recall from the lecture slides that the HSV model has a cilindrical volume,\n",
    "# rather than a cube. The H (Hue) value would be expressed in degrees over a circle,\n",
    "# so officially it would run from 0-360. This does not fit into 8 bits though,\n",
    "# and that is why OpenCV uses 0-180 (by dividing the 'true' H value by 2).\n",
    "def compute_hsv_histogram(image, bins_per_channel):\n",
    "  hsv_image = cv2.cvtColor(image, _CV2_BGR2HSV)\n",
    "  channels = [0, 1, 2] # List of channels to analyze.\n",
    "  ranges = [[0, 180], [0, 256], [0, 256]] # Range per channel.\n",
    "  return compute_histogram(hsv_image, channels, bins_per_channel, ranges)\n"
   ]
  },
  {
   "cell_type": "markdown",
   "metadata": {},
   "source": [
    "# Question\n",
    "Now, looking at the code in the cell above, write an own function in the cell below that computes a histogram only using the H and S values of the image.\n",
    "\n",
    "*When writing your code, consider the amount of bins in your histogram. How many bins were used per channel in the sample functions above? How many bins were used in total for the histogram? Can you write a function using the same overall amount of bins?*"
   ]
  },
  {
   "cell_type": "code",
   "execution_count": null,
   "metadata": {},
   "outputs": [],
   "source": [
    "# And another one for HS histograms (as we are not obliged to use all the channels).\n",
    "def compute_hs_histogram(image, bins_per_channel):\n",
    "  # YOUR_CODE_GOES_BELOW\n",
    "  pass # replace this 'pass' statement with your code\n",
    "\n",
    "# Compute histograms.\n",
    "bgr_histogram = compute_bgr_histogram(image, [8, 8, 8])\n",
    "print(np.shape(bgr_histogram))\n",
    "hsv_histogram = compute_hsv_histogram(image, [8, 8, 8])\n",
    "print(np.shape(hsv_histogram))"
   ]
  },
  {
   "cell_type": "code",
   "execution_count": null,
   "metadata": {},
   "outputs": [],
   "source": [
    "# Also compute your HS histogram: uncomment and adjust the two lines below.\n",
    "#hs_histogram = CALL_YOUR_HS_HISTOGRAM_FUNCTION_HERE_WITH_THE_RIGHT_PARAMETERS\n",
    "#print(np.shape(hs_histogram))\n"
   ]
  },
  {
   "cell_type": "markdown",
   "metadata": {},
   "source": [
    "Let's now plot the histograms."
   ]
  },
  {
   "cell_type": "code",
   "execution_count": null,
   "metadata": {},
   "outputs": [],
   "source": [
    "# Show histograms.\n",
    "_, image_filename = os.path.split(poster_images[0])\n",
    "ipynb_show_color_histogram(bgr_histogram, '<%s> BGR histogram' % image_filename)\n"
   ]
  },
  {
   "cell_type": "code",
   "execution_count": null,
   "metadata": {},
   "outputs": [],
   "source": [
    "ipynb_show_color_histogram(hsv_histogram, '<%s> HSV histogram' % image_filename)"
   ]
  },
  {
   "cell_type": "code",
   "execution_count": null,
   "metadata": {},
   "outputs": [],
   "source": [
    "# Also do this for your HS histogram.\n",
    "# ipynb_show_color_histogram(hs_histogram, '<%s> HS histogram' % image_filename)"
   ]
  },
  {
   "cell_type": "markdown",
   "metadata": {},
   "source": [
    "## Feature computation for the whole dataset\n",
    "How to these features influence the way in which images are related to one another?\n",
    "\n",
    "We will compute features for each of our items in the dataset, and then build a (dis)similarity matrix."
   ]
  },
  {
   "cell_type": "code",
   "execution_count": null,
   "metadata": {},
   "outputs": [],
   "source": [
    "# Let's compare all the images by building a feature matrix and a (dis-)similarity one.\n",
    "\n",
    "# We will try different features.\n",
    "feature_extractors = {\n",
    "    'BGRhist': (compute_bgr_histogram, [8, 8, 8]),  # Pointer to function, bins per channel.\n",
    "    'HSVhist': (compute_hsv_histogram, [8, 8, 8]),   # Pointer to function, bins per channel.\n",
    "    # uncomment the line below for your own HS histogram.\n",
    "    #'HShist': (compute_hs_histogram, [YOUR_BIN_SPECIFICATION]),\n",
    "}\n",
    "\n",
    "# Let's compute the feature matrices.\n",
    "number_of_images = len(poster_images)\n",
    "feature_matrices = {}\n",
    "\n",
    "# We iterate over the various features and compute the feature vectors.\n",
    "for feature_name in feature_extractors:\n",
    "  print('computing %s feature matrix' % feature_name)\n",
    "  (feature_extractor, bins_per_channel) = feature_extractors[feature_name]\n",
    "\n",
    "  # Initialize matrix.\n",
    "  feature_matrices[feature_name] = np.zeros(\n",
    "      (number_of_images, int(np.sum(bins_per_channel))), np.float32)\n",
    "\n",
    "  # Compute feature vectors.\n",
    "  for index, image_path in enumerate(poster_images):\n",
    "    image = cv2.imread(image_path)\n",
    "    feature_matrices[feature_name][index, :] = feature_extractor(image, bins_per_channel)\n",
    "\n",
    "  # Show statistics.\n",
    "  print(' - size', np.shape(feature_matrices[feature_name]))\n",
    "  print(' - min: %.3f' % np.min(feature_matrices[feature_name]))\n",
    "  print(' - max: %.3f' % np.max(feature_matrices[feature_name]))"
   ]
  },
  {
   "cell_type": "markdown",
   "metadata": {},
   "source": [
    "## Computing distances\n",
    "Now, we are going to compute the distances between the items in our dataset."
   ]
  },
  {
   "cell_type": "code",
   "execution_count": null,
   "metadata": {},
   "outputs": [],
   "source": [
    "# We will try different feature vector distance metrics.\n",
    "features_distance_metrics = {\n",
    "    'euclidean': 'euclidean',  # Or lambda u, v: np.sqrt(((u-v)**2).sum()) (slower).\n",
    "    'intersection_area': lambda u, v: np.sum(np.min([u, v], 0)),  # NB: this is a similarity metric.\n",
    "    # you can expand this list with own implementation of metrics, or references to metrics in scipy\n",
    "    # (see scipy.distance.pdist reference below)\n",
    "}\n",
    "\n",
    "# Denote whether the metric is a distance or a similarity metric. \n",
    "# This will be important later on when want to sort the images.\n",
    "metric_type = {\n",
    "    \"euclidean\": \"distance\",\n",
    "    \"intersection_area\": \"similarity\"\n",
    "}\n",
    "\n",
    "# Let's compute the distance matrices.\n",
    "distance_matrices = {}\n",
    "for distance_metric_name in features_distance_metrics:\n",
    "  distance_matrices[distance_metric_name] = {}\n",
    "  for feature_name in feature_extractors:\n",
    "    plot_title = 'feature: %s, metric: %s' % (feature_name, distance_metric_name)\n",
    "    print('computing distance matrix (%s)' % plot_title)\n",
    "    \n",
    "    # Compute the distance matrix using scipy.distance.pdist\n",
    "    # (see http://docs.scipy.org/doc/scipy-0.17.0/reference/generated/scipy.spatial.distance.pdist.html).\n",
    "    distance_matrices[distance_metric_name][feature_name] = squareform(pdist(\n",
    "        feature_matrices[feature_name], features_distance_metrics[distance_metric_name]))\n",
    "\n",
    "    # Check the size.\n",
    "    assert np.shape(distance_matrices[distance_metric_name][feature_name])[0] == number_of_images\n",
    "\n",
    "    # Plot.\n",
    "    ipynb_show_matrix(distance_matrices[distance_metric_name][feature_name], plot_title)\n",
    "    "
   ]
  },
  {
   "cell_type": "markdown",
   "metadata": {},
   "source": [
    "## Question\n",
    "What do these plotted matrices indicate? To what information do the x- and y-axis correspond? What do yellow/blue colors indicate? What do points on the main diagonal of the matrix indicate?"
   ]
  },
  {
   "cell_type": "markdown",
   "metadata": {},
   "source": [
    "Let's now examine values in these distance matrices in more detail. Try different matrix indices."
   ]
  },
  {
   "cell_type": "code",
   "execution_count": null,
   "metadata": {},
   "outputs": [],
   "source": [
    "print(distance_matrices['euclidean']['BGRhist'])\n",
    "print(distance_matrices['euclidean']['BGRhist'][0,4])\n",
    "print(distance_matrices['intersection_area']['BGRhist'][0,0])\n",
    "print(distance_matrices['intersection_area']['BGRhist'][0,4])"
   ]
  },
  {
   "cell_type": "markdown",
   "metadata": {},
   "source": [
    "We can see that some of the values are quite large. In practice one might want to scale the bins of the histograms to lie between 0 and 1, normalising per channel. This is not required for this assignment but can you think of any additional advantages to doing so?"
   ]
  },
  {
   "cell_type": "markdown",
   "metadata": {},
   "source": [
    "## Question\n",
    "\n",
    "Inspect the values on the main diagonal of the 'intersection_area' matrices. <code>pdist</code> by default populates this diagonal with a certain default value.\n",
    "\n",
    "When considering the interpretation of the intersection metric, this value is not the value you would expect.\n",
    "\n",
    "When considering the intersection of the i-th item in a dataset with the i-th item in a dataset, what value should the intersection have?\n",
    "\n",
    "We now will fix the diagonal values to this appropriate value."
   ]
  },
  {
   "cell_type": "code",
   "execution_count": null,
   "metadata": {},
   "outputs": [],
   "source": [
    "for feature_name in distance_matrices['intersection_area'].keys():\n",
    "    distance_matrix = distance_matrices['intersection_area'][feature_name]\n",
    "    collection_size = np.shape(distance_matrix)[0] # square matrix, so it does not matter whether we consider row or column count\n",
    "    for i in range(0, collection_size):\n",
    "        # Uncomment line below and add the right value\n",
    "        #distance_matrix[i, i] = WHAT_SHOULD_THIS_VALUE_BE?"
   ]
  },
  {
   "cell_type": "markdown",
   "metadata": {},
   "source": [
    "Let's visually check the matrix plots again."
   ]
  },
  {
   "cell_type": "code",
   "execution_count": null,
   "metadata": {},
   "outputs": [],
   "source": [
    "for distance_metric_name in features_distance_metrics:\n",
    "  for feature_name in feature_extractors:\n",
    "    plot_title = 'feature: %s, metric: %s' % (feature_name, distance_metric_name)\n",
    "    ipynb_show_matrix(distance_matrices[distance_metric_name][feature_name], plot_title)"
   ]
  },
  {
   "cell_type": "markdown",
   "metadata": {},
   "source": [
    "Based on this information, we can find the farthest and nearest items for a given image."
   ]
  },
  {
   "cell_type": "code",
   "execution_count": null,
   "metadata": {},
   "outputs": [],
   "source": [
    "# Let's use the distance matrices to find the farthest/nearest items for a number of random images.\n",
    "number_of_random_images = 2      # feel free to adjust this parameter\n",
    "number_of_examples_per_image = 3    # feel free to adjust this parameter\n",
    "\n",
    "# Choose random images.\n",
    "random_image_indexes = np.random.randint(0, number_of_images, number_of_random_images)\n",
    "\n",
    "# Show nearest/farthest items.\n",
    "for random_image_index in random_image_indexes:\n",
    "  _, reference_image_name = os.path.split(poster_images[random_image_index])\n",
    "  print('selected image: <%s>' % reference_image_name)\n",
    "  reference_image = cv2.imread(poster_images[random_image_index])\n",
    "  ipynb_show_cv2_image(reference_image, reference_image_name)\n",
    "  for distance_metric_name in features_distance_metrics:\n",
    "    for feature_name in feature_extractors:\n",
    "      plot_base_title = 'feature: %s, metric: %s' % (feature_name, distance_metric_name)\n",
    "      print(' - %s' % plot_base_title)\n",
    "\n",
    "      # Extract the pairwise scores for the current image.\n",
    "      pairwise_scores = distance_matrices[distance_metric_name][feature_name][random_image_index, :]\n",
    "\n",
    "      # Get the indexes sorted by score from lowest to highest\n",
    "      pairwise_scores_sorted_indexes = np.argsort(pairwise_scores)\n",
    "\n",
    "      # If the metric is a similarity metric then instead sort from highest to lowest\n",
    "      if metric_type[distance_metric_name] == \"similarity\":\n",
    "        pairwise_scores_sorted_indexes = pairwise_scores_sorted_indexes[::-1]\n",
    "\n",
    "        \n",
    "      # Find the top k and the bottom k images.\n",
    "      top_k_indexes = pairwise_scores_sorted_indexes[:number_of_examples_per_image]\n",
    "      bottom_k_indexes = reversed(pairwise_scores_sorted_indexes[-number_of_examples_per_image:])\n",
    "\n",
    "      # Show top k images.\n",
    "      for i, image_index in enumerate(top_k_indexes):\n",
    "        print('  top #%d: <%s>' % (i, poster_images[image_index]))\n",
    "        image = cv2.imread(poster_images[image_index])\n",
    "        ipynb_show_cv2_image(image, 'top #%d of <%s> (%s)' % (\n",
    "            i, reference_image_name, plot_base_title), figsize=(4, 4))\n",
    "        \n",
    "      # Show bottom k images.\n",
    "      for i, image_index in enumerate(bottom_k_indexes):\n",
    "        print('  bottom #%d: <%s>' % (i, poster_images[image_index]))\n",
    "        image = cv2.imread(poster_images[image_index])\n",
    "        ipynb_show_cv2_image(image, 'bottom #%d of <%s> (%s)' % (\n",
    "            i, reference_image_name, plot_base_title), figsize=(4, 4))\n"
   ]
  },
  {
   "cell_type": "markdown",
   "metadata": {},
   "source": [
    "## Question\n",
    "Can you explain why results end up in the top or bottom of the list? What are the main differences in the rankings for the different features and metrics?"
   ]
  },
  {
   "cell_type": "markdown",
   "metadata": {},
   "source": [
    "## Final Assignment\n",
    "Please play around with the number of bins and channels you can use in the histograms, and a few more distance metrics (see the pdist documentation, or build your own metric).\n",
    "\n",
    "This mostly would require you to tweak parts of the code above.\n",
    "\n",
    "Find a configuration (feature, histogram channels, histogram bin size, (dis)similarity metric) that gives a good ranking for the reference image specified below.\n",
    "\n",
    "Generate a ranked list for this configuration, such that items at a lower rank index are considered better matches (so the item at location 0 should be better than the item at location 100).\n",
    "\n",
    "Then, as soon as you have a configuration ranking you like, run the code below to generate a formatted overview of your top-10 results.\n",
    "Copy the console output into a text file and save the file as [studentNumberMember1_studentNumberMember2_ranking.txt].\n",
    "\n",
    "Underneath the top-10, add a short reflection to the same text file (± 200 words) in which you explain why you thought this ranking was strong, and indicate what visual features you would wish to use or develop if you would like to do film genre classification based on visual poster features.\n",
    "\n",
    "Please submit your results file via Brightspace."
   ]
  },
  {
   "cell_type": "code",
   "execution_count": null,
   "metadata": {},
   "outputs": [],
   "source": [
    "# reference image for which you will generate a top-10\n",
    "final_reference_image_index = 0\n",
    "final_reference_image = cv2.imread(poster_images[final_reference_image_index])"
   ]
  },
  {
   "cell_type": "code",
   "execution_count": null,
   "metadata": {},
   "outputs": [],
   "source": [
    "# Add the code to generate your ranked results for the best configuration you could find here.\n",
    "# The results should be in a similar form as 'pairwise_scores_sorted_indexes'\n",
    "# which was generated two code cells above.\n",
    "# Order your results such that the first items in the list are the best matches.\n",
    "\n",
    "# YOUR_CODE_FOR_THE_BEST_CONFIGURATION_TO_BE_ADDED_HERE\n",
    "\n",
    "# final_scores_sorted_indexes = REPLACE_THIS_BY_YOUR_RANKED_LIST"
   ]
  },
  {
   "cell_type": "code",
   "execution_count": null,
   "metadata": {},
   "outputs": [],
   "source": [
    "# generate a formatted list of top-10 ranked results.\n",
    "# replace the placeholder texts below with your name and a one-line explanation of your approach.\n",
    "print('names: %s' % 'REPLACE_THIS_WITH_YOUR_NAMES')\n",
    "print('feature: %s' % 'REPLACE_THIS_BY_A_ONE_LINE_EXPLANATION_OF_YOUR_CHOSEN_FEATURE')\n",
    "print('channels and bins: %s' % 'REPLACE_THIS_BY_A_ONE_LINE_EXPLANATION_OF_THE_CHOSEN_CHANNELS_AND_BIN_RESOLUTIONS')\n",
    "print('metric: %s\\n' % 'REPLACE_THIS_BY_A_ONE_LINE_EXPLANATION_OF_THE_CHOSEN_(DIS)SIMILARITY_METRIC')\n",
    "\n",
    "print('*** Top-10 for film %s ***' % poster_images[final_reference_image_index])\n",
    "# now print the top-10.\n",
    "top_10_indexes = final_scores_sorted_indexes[:10]\n",
    "for i, image_index in enumerate(top_10_indexes):\n",
    "    print('%d.\\t%s' % (i, poster_images[image_index]))"
   ]
  }
 ],
 "metadata": {
  "kernelspec": {
   "display_name": "Python 3",
   "language": "python",
   "name": "python3"
  },
  "language_info": {
   "codemirror_mode": {
    "name": "ipython",
    "version": 2
   },
   "file_extension": ".py",
   "mimetype": "text/x-python",
   "name": "python",
   "nbconvert_exporter": "python",
   "pygments_lexer": "ipython2",
   "version": "2.7.16"
  }
 },
 "nbformat": 4,
 "nbformat_minor": 2
}
