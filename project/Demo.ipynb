{
 "cells": [
  {
   "cell_type": "code",
   "execution_count": 1,
   "metadata": {},
   "outputs": [],
   "source": [
    "from src.preprocess import load_training_set, get_test_video_set\n",
    "from src.evaluation import pick_test_segments, generate_test_segments, evaluate_segments, evaluate\n",
    "from src.Video import Video\n",
    "from src.Segment import Segment\n",
    "from src.demo import test_inspect_widgets, chunks\n",
    "from src import search\n",
    "import ipywidgets as widgets\n",
    "from IPython.display import HTML\n",
    "import cv2 "
   ]
  },
  {
   "cell_type": "markdown",
   "metadata": {},
   "source": [
    "# Demo"
   ]
  },
  {
   "cell_type": "markdown",
   "metadata": {},
   "source": [
    "### Configuration"
   ]
  },
  {
   "cell_type": "code",
   "execution_count": 2,
   "metadata": {},
   "outputs": [],
   "source": [
    "NUM_VIDEOS      = 200\n",
    "GRID_SIZE       = 2\n",
    "BINS            = [18, 25]\n",
    "HIST_FRAME_SKIP = 5\n",
    "REFRESH         = False"
   ]
  },
  {
   "cell_type": "markdown",
   "metadata": {},
   "source": [
    "### Index videos"
   ]
  },
  {
   "cell_type": "code",
   "execution_count": 3,
   "metadata": {},
   "outputs": [],
   "source": [
    "video_index = load_training_set(range(1, NUM_VIDEOS+1), GRID_SIZE, BINS, HIST_FRAME_SKIP, force_refresh=REFRESH)"
   ]
  },
  {
   "cell_type": "markdown",
   "metadata": {},
   "source": [
    "### Create test collections"
   ]
  },
  {
   "cell_type": "code",
   "execution_count": null,
   "metadata": {},
   "outputs": [],
   "source": [
    "all_histograms, all_labels = get_test_video_set(NUM_VIDEOS, GRID_SIZE, BINS, n=100)\n",
    "test_index = list(chunks(all_histograms, 20))\n",
    "test_labels = list(chunks(all_labels, 20))"
   ]
  },
  {
   "cell_type": "markdown",
   "metadata": {},
   "source": [
    "<br><br>"
   ]
  },
  {
   "cell_type": "markdown",
   "metadata": {},
   "source": [
    "# TOC"
   ]
  },
  {
   "cell_type": "markdown",
   "metadata": {},
   "source": [
    " - [Inspect test set](#Inspect-test-set)\n",
    " - [Manual search](#Manual-search)\n",
    " - [Evaluation](#Evaluation)"
   ]
  },
  {
   "cell_type": "markdown",
   "metadata": {},
   "source": [
    "<br>"
   ]
  },
  {
   "cell_type": "markdown",
   "metadata": {},
   "source": [
    "# Inspect test set"
   ]
  },
  {
   "cell_type": "code",
   "execution_count": 17,
   "metadata": {},
   "outputs": [
    {
     "data": {
      "application/vnd.jupyter.widget-view+json": {
       "model_id": "f015b2bfecae45849d3392e12a9f78aa",
       "version_major": 2,
       "version_minor": 0
      },
      "text/plain": [
       "Dropdown(description='Test set:', options=(('-', '-'), ('Test set 1', 0), ('Test set 2', 1), ('Test set 3', 2)…"
      ]
     },
     "metadata": {},
     "output_type": "display_data"
    },
    {
     "data": {
      "application/vnd.jupyter.widget-view+json": {
       "model_id": "0b8a6974435d424781da56c936e41736",
       "version_major": 2,
       "version_minor": 0
      },
      "text/plain": [
       "Dropdown(description='Video:', disabled=True, options=(' ', '-', ' '), value=' ')"
      ]
     },
     "metadata": {},
     "output_type": "display_data"
    }
   ],
   "source": [
    "test_set_id_widget, test_set_vid_widget = test_inspect_widgets(test_labels)\n",
    "display(test_set_id_widget, test_set_vid_widget)"
   ]
  },
  {
   "cell_type": "code",
   "execution_count": 19,
   "metadata": {},
   "outputs": [
    {
     "data": {
      "text/html": [
       "<video id=\"vid\" width=\"480\" height=\"270\" controls><source src=\"data/movies/00032.mp4\" type=\"video/mp4\"></video>\n",
       "<script>\n",
       "v = document.getElementById('vid');\n",
       "v.currentTime = 156;v.addEventListener('timeupdate', function(){ if(this.currentTime >= 176) { this.pause(); }});\n",
       "v.play();\n",
       "</script>"
      ],
      "text/plain": [
       "<IPython.core.display.HTML object>"
      ]
     },
     "execution_count": 19,
     "metadata": {},
     "output_type": "execute_result"
    }
   ],
   "source": [
    "video = [x for x in video_index if x.name == test_set_vid_widget.value[0]][0]\n",
    "start_time = int(round(test_set_vid_widget.value[1] / video.frame_rate))\n",
    "end_time = int(round(test_set_vid_widget.value[2] / video.frame_rate))\n",
    "\n",
    "HTML(\"\"\"<video id=\"vid\" width=\"480\" height=\"270\" controls><source src=\"data/movies/%s\" type=\"video/mp4\"></video>\n",
    "<script>\n",
    "v = document.getElementById('vid');\n",
    "v.currentTime = %d;v.addEventListener('timeupdate', function(){ if(this.currentTime >= %d) { this.pause(); }});\n",
    "v.play();\n",
    "</script>\"\"\" % (video.name, start_time, end_time))"
   ]
  },
  {
   "cell_type": "markdown",
   "metadata": {},
   "source": [
    "<br><br>"
   ]
  },
  {
   "cell_type": "markdown",
   "metadata": {},
   "source": [
    "# Manual Search"
   ]
  },
  {
   "cell_type": "code",
   "execution_count": 20,
   "metadata": {},
   "outputs": [
    {
     "data": {
      "text/plain": [
       "('00032.mp4', 4930.5)"
      ]
     },
     "execution_count": 20,
     "metadata": {},
     "output_type": "execute_result"
    }
   ],
   "source": [
    "test_segment_index = test_labels[test_set_id_widget.value].index(test_set_vid_widget.value)\n",
    "hists = test_index[test_set_id_widget.value][test_segment_index]\n",
    "found = search.knownImageSearch(hists, video_index, cv2.HISTCMP_CHISQR_ALT, 5, HIST_FRAME_SKIP, [0])\n",
    "found"
   ]
  },
  {
   "cell_type": "code",
   "execution_count": 21,
   "metadata": {},
   "outputs": [
    {
     "data": {
      "text/html": [
       "<video id=\"vid_found\" width=\"480\" height=\"270\" controls><source src=\"data/movies/00032.mp4\" type=\"video/mp4\"></video>\n",
       "<script>\n",
       "v = document.getElementById('vid_found');\n",
       "v.currentTime = 165;v.addEventListener('timeupdate', function(){ if(this.currentTime >= 764) { this.pause(); }});\n",
       "v.play();\n",
       "</script>"
      ],
      "text/plain": [
       "<IPython.core.display.HTML object>"
      ]
     },
     "execution_count": 21,
     "metadata": {},
     "output_type": "execute_result"
    }
   ],
   "source": [
    "video = [x for x in video_index if x.name == found[0]][0]\n",
    "start_time = int(round(found[1] / video.frame_rate))\n",
    "end_time = start_time + int(round(20 * video.frame_rate))\n",
    "\n",
    "HTML(\"\"\"<video id=\"vid_found\" width=\"480\" height=\"270\" controls><source src=\"data/movies/%s\" type=\"video/mp4\"></video>\n",
    "<script>\n",
    "v = document.getElementById('vid_found');\n",
    "v.currentTime = %d;v.addEventListener('timeupdate', function(){ if(this.currentTime >= %d) { this.pause(); }});\n",
    "v.play();\n",
    "</script>\"\"\" % (video.name, start_time, end_time))"
   ]
  },
  {
   "cell_type": "markdown",
   "metadata": {},
   "source": [
    "<br><br>"
   ]
  },
  {
   "cell_type": "markdown",
   "metadata": {},
   "source": [
    "# Evaluation"
   ]
  },
  {
   "cell_type": "code",
   "execution_count": null,
   "metadata": {},
   "outputs": [
    {
     "name": "stdout",
     "output_type": "stream",
     "text": [
      "Searching segment 2/20"
     ]
    }
   ],
   "source": [
    "%%time\n",
    "test_set = test_index[test_set_id_widget.value]\n",
    "results = []\n",
    "\n",
    "for i, test_segment in enumerate(test_set):\n",
    "    print(\"\\rSearching segment {}/{}\".format(i+1, len(test_set), len(test_segment)), end='', flush=True)\n",
    "    results.append(search.knownImageSearch(test_segment, video_index, cv2.HISTCMP_CHISQR_ALT, 5, HIST_FRAME_SKIP, [0]))\n",
    "\n",
    "print()"
   ]
  },
  {
   "cell_type": "code",
   "execution_count": null,
   "metadata": {},
   "outputs": [],
   "source": [
    "movie_results, start_frame_dist = evaluate(results, test_labels[test_set_id_widget.value])\n",
    "\n",
    "fractions = (movie_results[0] / movie_results[2]*100 if movie_results[2] > 0 else 0, \\\n",
    "             movie_results[1] / movie_results[0]*100 if movie_results[0] > 0 else 0)\n",
    "\n",
    "print(\"TEST RESULTS (test set #{:d})\".format(test_set_id_widget.value+1))\n",
    "\n",
    "print(\"\\nCorrect video: {:d} / {:d} ({:.1f}%)\".format(movie_results[0], movie_results[2], fractions[0]))\n",
    "print(\"Inside fragment: {:d} / {:d} ({:.1f}%)\".format(movie_results[1], movie_results[0], fractions[1]))\n",
    "print(\"Average distance to center of segment: {:.0f} +/- {:.0f} frames (approx. {:.1f} sec)\".format(\n",
    "    start_frame_dist[0], start_frame_dist[1], start_frame_dist[0]/30))"
   ]
  },
  {
   "cell_type": "markdown",
   "metadata": {},
   "source": [
    "<br><br>"
   ]
  },
  {
   "cell_type": "code",
   "execution_count": null,
   "metadata": {},
   "outputs": [],
   "source": [
    "list(zip(test_labels[test_set_id_widget.value], results))"
   ]
  }
 ],
 "metadata": {
  "kernelspec": {
   "display_name": "Python 3",
   "language": "python",
   "name": "python3"
  },
  "language_info": {
   "codemirror_mode": {
    "name": "ipython",
    "version": 3
   },
   "file_extension": ".py",
   "mimetype": "text/x-python",
   "name": "python",
   "nbconvert_exporter": "python",
   "pygments_lexer": "ipython3",
   "version": "3.7.3"
  }
 },
 "nbformat": 4,
 "nbformat_minor": 2
}
