{
 "cells": [
  {
   "cell_type": "markdown",
   "metadata": {},
   "source": [
    "# Evaluation"
   ]
  },
  {
   "cell_type": "code",
   "execution_count": 189,
   "metadata": {},
   "outputs": [
    {
     "name": "stdout",
     "output_type": "stream",
     "text": [
      "The autoreload extension is already loaded. To reload it, use:\n",
      "  %reload_ext autoreload\n"
     ]
    }
   ],
   "source": [
    "%load_ext autoreload\n",
    "%autoreload 2"
   ]
  },
  {
   "cell_type": "code",
   "execution_count": 190,
   "metadata": {},
   "outputs": [],
   "source": [
    "import pandas as pd\n",
    "import numpy as np\n",
    "from src import preprocess as prep\n",
    "from src.evaluation import pick_test_segments, generate_test_segments, evaluate_segments\n",
    "from src.Video import Video\n",
    "from src.Segment import Segment\n",
    "from src import search\n",
    "import random\n",
    "import cv2"
   ]
  },
  {
   "cell_type": "markdown",
   "metadata": {},
   "source": [
    "## Parameters"
   ]
  },
  {
   "cell_type": "code",
   "execution_count": 252,
   "metadata": {},
   "outputs": [],
   "source": [
    "NUM_VIDEOS = 100\n",
    "GRID_SIZE = 3\n",
    "BINS = [180, 256]\n",
    "HIST_FRAME_SKIP = 20\n",
    "REFRESH = False\n",
    "\n",
    "# vergeet gebruikte params soms dus print ze maar afentoe\n",
    "def printParams():\n",
    "    print('Num. Vid {} - Grid {} - Bins {} - Skip {}'.format(NUM_VIDEOS, GRID_SIZE, BINS, HIST_FRAME_SKIP))"
   ]
  },
  {
   "cell_type": "markdown",
   "metadata": {},
   "source": [
    "## Load training set / generate test set"
   ]
  },
  {
   "cell_type": "code",
   "execution_count": 253,
   "metadata": {},
   "outputs": [
    {
     "name": "stdout",
     "output_type": "stream",
     "text": [
      "Num. Vid 100 - Grid 3 - Bins [180, 256] - Skip 20\n",
      "Loading / processing dataset...\n",
      "Done processing!"
     ]
    }
   ],
   "source": [
    "printParams()\n",
    "training_set = prep.load_training_set(range(1, NUM_VIDEOS+1), GRID_SIZE, BINS, HIST_FRAME_SKIP, force_refresh=REFRESH)"
   ]
  },
  {
   "cell_type": "code",
   "execution_count": 273,
   "metadata": {},
   "outputs": [
    {
     "name": "stdout",
     "output_type": "stream",
     "text": [
      "no histststs\n",
      "no histststs\n",
      "no histststs\n",
      "no histststs\n",
      "no histststs\n"
     ]
    }
   ],
   "source": [
    "# Set of 100 custom fragments with duration 20sec\n",
    "test_set, labels = generate_test_segments(training_set, n=100, duration=20)"
   ]
  },
  {
   "cell_type": "code",
   "execution_count": 271,
   "metadata": {},
   "outputs": [
    {
     "name": "stdout",
     "output_type": "stream",
     "text": [
      "TRAINING SET:\n",
      "Num. videos:   100\n",
      "Num. segments: 12694\n",
      "Duration:      48,647.6 s\n",
      "Num frames:      1347680\n",
      "Num histograms:      73522\n",
      "TEST SET:\n",
      "Size: 100\n"
     ]
    }
   ],
   "source": [
    "# Print statistics\n",
    "print(\"TRAINING SET:\")\n",
    "print(\"Num. videos:   {:d}\".format( len(training_set)) )\n",
    "print(\"Num. segments: {:d}\".format( np.sum([len(video.segments) for video in training_set])) )\n",
    "print(\"Duration:      {:,.1f} s\".format( np.sum([np.sum([segment.duration() for segment in video.segments]) for video in training_set])) )\n",
    "print(\"Num frames:      {:d}\".format( np.sum([np.sum([segment.num_frames() for segment in video.segments]) for video in training_set])) )\n",
    "print(\"Num histograms:      {:d}\".format( np.sum([np.sum([len(segment.histograms) for segment in video.segments]) for video in training_set])) )\n",
    "\n",
    "print(\"TEST SET:\")\n",
    "print(\"Size: {:d}\".format( len(test_set) ))"
   ]
  },
  {
   "cell_type": "markdown",
   "metadata": {},
   "source": [
    "# Small manual test"
   ]
  },
  {
   "cell_type": "code",
   "execution_count": 264,
   "metadata": {},
   "outputs": [
    {
     "name": "stdout",
     "output_type": "stream",
     "text": [
      "Found ('00090.mp4', 2402, 2964) - Expected ('00090.mp4', 2391, 2870)\n",
      "Found ('00031.mp4', 6088, 6639) - Expected ('00031.mp4', 6087, 6566)\n",
      "Found ('00086.mp4', 474, 1113) - Expected ('00086.mp4', 468, 968)\n",
      "Found ('00050.mp4', 9334, 9907) - Expected ('00050.mp4', 9292, 9792)\n",
      "Found ('00090.mp4', 4146, 4732) - Expected ('00090.mp4', 4034, 4513)\n",
      "Found ('00066.mp4', 6797, 7405) - Expected ('00066.mp4', 6739, 7338)\n",
      "Found ('00034.mp4', 1194, 1737) - Expected ('00034.mp4', 1183, 1662)\n",
      "Found ('00070.mp4', 12716, 13280) - Expected ('00070.mp4', 12477, 12977)\n",
      "Found ('00091.mp4', 3626, 4254) - Expected ('00091.mp4', 3563, 4042)\n",
      "Found ('00078.mp4', 1721, 2994) - Expected ('00078.mp4', 1755, 2255)\n"
     ]
    }
   ],
   "source": [
    "pr = False\n",
    "for i in range(10):\n",
    "#     x = random.choice(range(len(test_set[i])))\n",
    "    found = search.findFrame(test_set[i][0], training_set, cv2.HISTCMP_CHISQR, 2, prints= pr, warnings=pr)\n",
    "    print('Found {} - Expected {}'.format(found, labels[i]))"
   ]
  },
  {
   "cell_type": "markdown",
   "metadata": {},
   "source": [
    "## Run model on test set"
   ]
  },
  {
   "cell_type": "code",
   "execution_count": 261,
   "metadata": {},
   "outputs": [],
   "source": [
    "for method in [cv2.HISTCMP_CORREL, cv2.HISTCMP_CHISQR, cv2.cv2.HISTCMP_INTERSECT,\n",
    "               cv2.HISTCMP_BHATTACHARYYA, cv2.HISTCMP_CHISQR_ALT, cv2.HISTCMP_KL_DIV]:\n",
    "    %timeit -n 10 search.findFrame(test_set[0][0], training_set, method, warnings = False)\n",
    "\n",
    "# for ch in [[0], [1], [0, 1]]:\n",
    "#     print('{}'.format(ch))\n",
    "#     %timeit -n 10 search.findFrame(test_set[0], training_set, cv2.HISTCMP_CORREL, channels=ch)\n"
   ]
  },
  {
   "cell_type": "code",
   "execution_count": 274,
   "metadata": {},
   "outputs": [
    {
     "name": "stdout",
     "output_type": "stream",
     "text": [
      "Searching segment 1/100 - Histograms 37\n",
      "Searching segment 2/100 - Histograms 26\n",
      "Searching segment 3/100 - Histograms 49\n",
      "Searching segment 4/100 - Histograms 36\n",
      "Searching segment 5/100 - Histograms 31\n",
      "Searching segment 6/100 - Histograms 26\n",
      "Searching segment 7/100 - Histograms 37\n",
      "Searching segment 8/100 - Histograms 33\n",
      "Searching segment 9/100 - Histograms 30\n",
      "Searching segment 10/100 - Histograms 37\n",
      "Searching segment 11/100 - Histograms 38\n",
      "Searching segment 12/100 - Histograms 43\n",
      "Searching segment 13/100 - Histograms 25\n",
      "Searching segment 14/100 - Histograms 27\n",
      "Searching segment 15/100 - Histograms 41\n",
      "Searching segment 16/100 - Histograms 33\n",
      "Searching segment 17/100 - Histograms 36\n",
      "Searching segment 18/100 - Histograms 17\n",
      "Searching segment 19/100 - Histograms 37\n",
      "Searching segment 20/100 - Histograms 32\n",
      "Searching segment 21/100 - Histograms 31\n",
      "Searching segment 22/100 - Histograms 37\n",
      "Searching segment 23/100 - Histograms 37\n",
      "Searching segment 24/100 - Histograms 11\n",
      "Searching segment 25/100 - Histograms 37\n",
      "Searching segment 26/100 - Histograms 38\n",
      "Searching segment 27/100 - Histograms 35\n",
      "Searching segment 28/100 - Histograms 32\n",
      "Searching segment 29/100 - Histograms 35\n",
      "Searching segment 30/100 - Histograms 29\n",
      "Searching segment 31/100 - Histograms 46\n",
      "Searching segment 32/100 - Histograms 20\n",
      "Searching segment 33/100 - Histograms 33\n",
      "Searching segment 34/100 - Histograms 33\n",
      "Searching segment 35/100 - Histograms 41\n",
      "Searching segment 36/100 - Histograms 31\n",
      "Searching segment 37/100 - Histograms 43\n",
      "Searching segment 38/100 - Histograms 35\n",
      "Searching segment 39/100 - Histograms 37\n",
      "Searching segment 40/100 - Histograms 38\n",
      "Searching segment 41/100 - Histograms 35\n",
      "Searching segment 42/100 - Histograms 22\n",
      "Searching segment 43/100 - Histograms 24\n",
      "Searching segment 44/100 - Histograms 35\n",
      "Searching segment 45/100 - Histograms 23\n",
      "Searching segment 46/100 - Histograms 46\n",
      "Searching segment 47/100 - Histograms 34\n",
      "Searching segment 48/100 - Histograms 39\n",
      "Searching segment 49/100 - Histograms 37\n",
      "Searching segment 50/100 - Histograms 32\n",
      "Searching segment 51/100 - Histograms 28\n",
      "Searching segment 52/100 - Histograms 30\n",
      "Searching segment 53/100 - Histograms 26\n",
      "Searching segment 54/100 - Histograms 31\n",
      "Searching segment 55/100 - Histograms 33\n",
      "Searching segment 56/100 - Histograms 37\n",
      "Searching segment 57/100 - Histograms 29\n",
      "Searching segment 58/100 - Histograms 33\n",
      "Searching segment 59/100 - Histograms 15\n",
      "Searching segment 60/100 - Histograms 37\n",
      "Searching segment 61/100 - Histograms 31\n",
      "Searching segment 62/100 - Histograms 28\n",
      "Searching segment 63/100 - Histograms 13\n",
      "Searching segment 64/100 - Histograms 21\n",
      "Searching segment 65/100 - Histograms 32\n",
      "Searching segment 66/100 - Histograms 33\n",
      "Searching segment 67/100 - Histograms 27\n",
      "Searching segment 68/100 - Histograms 38\n",
      "Searching segment 69/100 - Histograms 31\n",
      "Searching segment 70/100 - Histograms 30\n",
      "Searching segment 71/100 - Histograms 34\n",
      "Searching segment 72/100 - Histograms 30\n",
      "Searching segment 73/100 - Histograms 31\n",
      "Searching segment 74/100 - Histograms 35\n",
      "Searching segment 75/100 - Histograms 54\n",
      "Searching segment 76/100 - Histograms 33\n",
      "Searching segment 77/100 - Histograms 30\n",
      "Searching segment 78/100 - Histograms 4\n",
      "Searching segment 79/100 - Histograms 26\n",
      "Searching segment 80/100 - Histograms 30\n",
      "Searching segment 81/100 - Histograms 41\n",
      "Searching segment 82/100 - Histograms 45\n",
      "Searching segment 83/100 - Histograms 17\n",
      "Searching segment 84/100 - Histograms 23\n",
      "Searching segment 85/100 - Histograms 28\n",
      "Searching segment 86/100 - Histograms 30\n",
      "Searching segment 87/100 - Histograms 33\n",
      "Searching segment 88/100 - Histograms 12\n",
      "Searching segment 89/100 - Histograms 39\n",
      "Searching segment 90/100 - Histograms 36\n",
      "Searching segment 91/100 - Histograms 29\n",
      "Searching segment 92/100 - Histograms 31\n",
      "Searching segment 93/100 - Histograms 39\n",
      "Searching segment 94/100 - Histograms 45\n",
      "Searching segment 95/100 - Histograms 32\n",
      "Searching segment 96/100 - Histograms 38\n",
      "Searching segment 97/100 - Histograms 37\n",
      "Searching segment 98/100 - Histograms 27\n",
      "Searching segment 99/100 - Histograms 29\n",
      "Searching segment 100/100 - Histograms 27\n"
     ]
    }
   ],
   "source": [
    "results = []\n",
    "\n",
    "for i, histogram in enumerate(test_set):\n",
    "    print('\\rSearching segment {}/{}'.format(i+1, len(test_set), len(histogram), end='', flush=True))\n",
    "    \n",
    "    results.append(search.findFrame(histogram[0], training_set, cv2.HISTCMP_CHISQR_ALT, 2, warnings = False))"
   ]
  },
  {
   "cell_type": "markdown",
   "metadata": {},
   "source": [
    "## Evaluate performance"
   ]
  },
  {
   "cell_type": "code",
   "execution_count": 275,
   "metadata": {},
   "outputs": [
    {
     "name": "stdout",
     "output_type": "stream",
     "text": [
      "Segment evaluation:\n",
      "Correct movies: 91\n",
      "Wrong movies:   9\n",
      "Total:   100\n",
      "Start frame distance (correct movies only):   9366\n",
      "Avg Start frame distance (correct movies only):   93.660000\n",
      "TPR:     91.0%\n"
     ]
    }
   ],
   "source": [
    "evaluate_segments(results, labels)"
   ]
  },
  {
   "cell_type": "code",
   "execution_count": null,
   "metadata": {},
   "outputs": [],
   "source": []
  }
 ],
 "metadata": {
  "kernelspec": {
   "display_name": "Python 3",
   "language": "python",
   "name": "python3"
  },
  "language_info": {
   "codemirror_mode": {
    "name": "ipython",
    "version": 3
   },
   "file_extension": ".py",
   "mimetype": "text/x-python",
   "name": "python",
   "nbconvert_exporter": "python",
   "pygments_lexer": "ipython3",
   "version": "3.7.3"
  }
 },
 "nbformat": 4,
 "nbformat_minor": 2
}
