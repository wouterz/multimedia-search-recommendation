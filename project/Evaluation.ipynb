{
 "cells": [
  {
   "cell_type": "markdown",
   "metadata": {},
   "source": [
    "# Evaluation"
   ]
  },
  {
   "cell_type": "code",
   "execution_count": 1,
   "metadata": {},
   "outputs": [],
   "source": [
    "%load_ext autoreload\n",
    "%autoreload 2"
   ]
  },
  {
   "cell_type": "code",
   "execution_count": 34,
   "metadata": {},
   "outputs": [],
   "source": [
    "import pandas as pd\n",
    "import numpy as np\n",
    "from src import preprocess as prep\n",
    "from src.evaluation import evaluate_segments\n",
    "import random\n",
    "from src.Video import Video\n",
    "from src.Segment import Segment\n",
    "from src import search\n",
    "import cv2"
   ]
  },
  {
   "cell_type": "markdown",
   "metadata": {},
   "source": [
    "## Parameters"
   ]
  },
  {
   "cell_type": "code",
   "execution_count": 109,
   "metadata": {},
   "outputs": [],
   "source": [
    "NUM_VIDEOS = 10\n",
    "GRID_SIZE = 2\n",
    "BINS = [180, 180]"
   ]
  },
  {
   "cell_type": "markdown",
   "metadata": {},
   "source": [
    "## Load training set"
   ]
  },
  {
   "cell_type": "code",
   "execution_count": 112,
   "metadata": {},
   "outputs": [
    {
     "name": "stdout",
     "output_type": "stream",
     "text": [
      "Loading / processing dataset...\n",
      "Done processing!"
     ]
    }
   ],
   "source": [
    "training_set = prep.load_training_set(range(1, NUM_VIDEOS+1), GRID_SIZE, BINS)"
   ]
  },
  {
   "cell_type": "code",
   "execution_count": 113,
   "metadata": {},
   "outputs": [
    {
     "name": "stdout",
     "output_type": "stream",
     "text": [
      "TRAINING SET:\n",
      "Num. videos:   10\n",
      "Num. segments: 972\n",
      "Duration:      3,053.0 s\n"
     ]
    }
   ],
   "source": [
    "# Print statistics\n",
    "print(\"TRAINING SET:\")\n",
    "print(\"Num. videos:   {:d}\".format( len(training_set)) )\n",
    "print(\"Num. segments: {:d}\".format( np.sum([len(video.segments) for video in training_set])) )\n",
    "print(\"Duration:      {:,.1f} s\".format( np.sum([np.sum([segment.duration() for segment in video.segments]) for video in training_set])) )"
   ]
  },
  {
   "cell_type": "markdown",
   "metadata": {},
   "source": [
    "## Select random test set"
   ]
  },
  {
   "cell_type": "code",
   "execution_count": 114,
   "metadata": {},
   "outputs": [],
   "source": [
    "test_n_segments = 100\n",
    "test_set = []\n",
    "labels = []\n",
    "\n",
    "for i in range(test_n_segments):\n",
    "    \n",
    "    # Find random video\n",
    "    video = random.choice(training_set)\n",
    "    \n",
    "    # Select random segment and add histogram to test set\n",
    "    segment = random.choice(video.segments)\n",
    "    test_set.append(segment.histograms)\n",
    "    labels.append(segment)"
   ]
  },
  {
   "cell_type": "code",
   "execution_count": 115,
   "metadata": {},
   "outputs": [
    {
     "name": "stdout",
     "output_type": "stream",
     "text": [
      "TEST SET:\n",
      "Num. histograms: 100\n"
     ]
    }
   ],
   "source": [
    "# Print statistics\n",
    "print(\"TEST SET:\")\n",
    "print(\"Num. histograms: {:d}\".format( len(test_set) ))"
   ]
  },
  {
   "cell_type": "markdown",
   "metadata": {},
   "source": [
    "<br>"
   ]
  },
  {
   "cell_type": "markdown",
   "metadata": {},
   "source": [
    "## Run model on test set"
   ]
  },
  {
   "cell_type": "code",
   "execution_count": 116,
   "metadata": {},
   "outputs": [
    {
     "name": "stdout",
     "output_type": "stream",
     "text": [
      "1 loop, best of 5: 326 ms per loop\n",
      "1 loop, best of 5: 314 ms per loop\n",
      "1 loop, best of 5: 320 ms per loop\n",
      "1 loop, best of 5: 325 ms per loop\n",
      "1 loop, best of 5: 314 ms per loop\n",
      "1 loop, best of 5: 322 ms per loop\n"
     ]
    }
   ],
   "source": [
    "%timeit search.find(test_set[0], training_set, cv2.HISTCMP_CORREL)\n",
    "%timeit search.find(test_set[0], training_set, cv2.HISTCMP_CHISQR_ALT)\n",
    "%timeit search.find(test_set[0], training_set, cv2.HISTCMP_INTERSECT)\n",
    "%timeit search.find(test_set[0], training_set, cv2.HISTCMP_BHATTACHARYYA)\n",
    "%timeit search.find(test_set[0], training_set, cv2.HISTCMP_CHISQR_ALT)\n",
    "%timeit search.find(test_set[0], training_set, cv2.HISTCMP_KL_DIV)"
   ]
  },
  {
   "cell_type": "code",
   "execution_count": 117,
   "metadata": {},
   "outputs": [
    {
     "name": "stdout",
     "output_type": "stream",
     "text": [
      "Searching segment 100/100"
     ]
    }
   ],
   "source": [
    "results = []\n",
    "\n",
    "for i, histogram in enumerate(test_set):\n",
    "    print('\\rSearching segment {}/{}'.format(i+1, len(test_set)), end='', flush=True)\n",
    "    \n",
    "    results.append(search.find(histogram, training_set, cv2.HISTCMP_INTERSECT))"
   ]
  },
  {
   "cell_type": "markdown",
   "metadata": {},
   "source": [
    "## Evaluate performance"
   ]
  },
  {
   "cell_type": "code",
   "execution_count": 118,
   "metadata": {},
   "outputs": [
    {
     "name": "stdout",
     "output_type": "stream",
     "text": [
      "Segment evaluation:\n",
      "Correct: 99\n",
      "Wrong:   1\n",
      "Total:   100\n",
      "TPR:     99.0%\n"
     ]
    }
   ],
   "source": [
    "evaluate_segments(results, labels)"
   ]
  }
 ],
 "metadata": {
  "kernelspec": {
   "display_name": "Python 3",
   "language": "python",
   "name": "python3"
  },
  "language_info": {
   "codemirror_mode": {
    "name": "ipython",
    "version": 3
   },
   "file_extension": ".py",
   "mimetype": "text/x-python",
   "name": "python",
   "nbconvert_exporter": "python",
   "pygments_lexer": "ipython3",
   "version": "3.7.3"
  }
 },
 "nbformat": 4,
 "nbformat_minor": 2
}
