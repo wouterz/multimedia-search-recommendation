{
 "cells": [
  {
   "cell_type": "markdown",
   "metadata": {},
   "source": [
    "# Evaluation"
   ]
  },
  {
   "cell_type": "code",
   "execution_count": 383,
   "metadata": {},
   "outputs": [
    {
     "name": "stdout",
     "output_type": "stream",
     "text": [
      "The autoreload extension is already loaded. To reload it, use:\n",
      "  %reload_ext autoreload\n"
     ]
    }
   ],
   "source": [
    "%load_ext autoreload\n",
    "%autoreload 2"
   ]
  },
  {
   "cell_type": "code",
   "execution_count": 384,
   "metadata": {},
   "outputs": [],
   "source": [
    "import pandas as pd\n",
    "import numpy as np\n",
    "from src import preprocess as prep\n",
    "from src.evaluation import pick_test_segments, generate_test_segments, evaluate_segments, evaluate\n",
    "from src.Video import Video\n",
    "from src.Segment import Segment\n",
    "from src import search\n",
    "import random\n",
    "import cv2"
   ]
  },
  {
   "cell_type": "markdown",
   "metadata": {},
   "source": [
    "## Parameters"
   ]
  },
  {
   "cell_type": "code",
   "execution_count": 502,
   "metadata": {},
   "outputs": [],
   "source": [
    "NUM_VIDEOS = 2\n",
    "GRID_SIZE = 2\n",
    "BINS = [int(180/4), int(256/4)]\n",
    "# negative value is average; -2 averages two frames, takes every 2nd frame (only skips one) (if frame_id % 2 == 0).\n",
    "HIST_FRAME_SKIP = -2\n",
    "REFRESH = False\n",
    "\n",
    "# vergeet gebruikte params soms dus print ze maar afentoe\n",
    "def printParams():\n",
    "    print('Num. Vid {} - Grid {} - Bins {} - Skip {}'.format(NUM_VIDEOS, GRID_SIZE, BINS, HIST_FRAME_SKIP))"
   ]
  },
  {
   "cell_type": "markdown",
   "metadata": {},
   "source": [
    "## Load training set / generate test set"
   ]
  },
  {
   "cell_type": "code",
   "execution_count": 503,
   "metadata": {},
   "outputs": [
    {
     "name": "stdout",
     "output_type": "stream",
     "text": [
      "Num. Vid 2 - Grid 2 - Bins [45, 64] - Skip -1\n"
     ]
    }
   ],
   "source": [
    "printParams()\n",
    "training_set = prep.load_training_set(range(1, NUM_VIDEOS+1), GRID_SIZE,\n",
    "                                      BINS, HIST_FRAME_SKIP, force_refresh=REFRESH)"
   ]
  },
  {
   "cell_type": "code",
   "execution_count": 489,
   "metadata": {},
   "outputs": [
    {
     "name": "stdout",
     "output_type": "stream",
     "text": [
      "processing 10/10"
     ]
    }
   ],
   "source": [
    "# Set of 100 custom fragments with duration 20sec\n",
    "test_set, labels = prep.get_test_video_set(NUM_VIDEOS, GRID_SIZE, BINS, n=10)"
   ]
  },
  {
   "cell_type": "code",
   "execution_count": 504,
   "metadata": {
    "scrolled": true
   },
   "outputs": [
    {
     "name": "stdout",
     "output_type": "stream",
     "text": [
      "TRAINING SET:\n",
      "Num. videos:    2\n",
      "Num. segments:  189\n",
      "Duration:       529.7 s\n",
      "Num frames:     14731\n",
      "Num histograms: 14731\n",
      "\n",
      "TEST SET:\n",
      "Size: 10\n"
     ]
    }
   ],
   "source": [
    "# Print statistics\n",
    "print(\"TRAINING SET:\")\n",
    "print(\"Num. videos:    {:d}\".format( len(training_set)) )\n",
    "print(\"Num. segments:  {:d}\".format( np.sum([len(video.segments) for video in training_set])) )\n",
    "print(\"Duration:       {:,.1f} s\".format( np.sum([np.sum([segment.duration() for segment in video.segments]) for video in training_set])) )\n",
    "print(\"Num frames:     {:d}\".format( np.sum([np.sum([segment.num_frames() for segment in video.segments]) for video in training_set])) )\n",
    "print(\"Num histograms: {:d}\".format( np.sum([np.sum([len(segment.histograms) for segment in video.segments]) for video in training_set])) )\n",
    "\n",
    "print(\"\\nTEST SET:\")\n",
    "print(\"Size: {:d}\".format( len(test_set) ))"
   ]
  },
  {
   "cell_type": "markdown",
   "metadata": {},
   "source": [
    "# Small manual test"
   ]
  },
  {
   "cell_type": "code",
   "execution_count": 505,
   "metadata": {},
   "outputs": [
    {
     "name": "stdout",
     "output_type": "stream",
     "text": [
      "Found ('00001.mp4', 3351.0) - Expected ('00001.mp4', 3168, 3668)\n",
      "Found ('00002.mp4', 1690.5) - Expected ('00002.mp4', 1465, 2064)\n",
      "Found ('00001.mp4', 1887.5) - Expected ('00001.mp4', 1601, 2101)\n",
      "Found ('00001.mp4', 539.5) - Expected ('00001.mp4', 326, 826)\n",
      "Found ('00001.mp4', 6064.0) - Expected ('00001.mp4', 5770, 6270)\n",
      "Found ('00001.mp4', 2804.0) - Expected ('00001.mp4', 2472, 2972)\n",
      "Found ('00001.mp4', 4857.0) - Expected ('00001.mp4', 4615, 5115)\n",
      "Found ('00002.mp4', 2991.0) - Expected ('00002.mp4', 2683, 3282)\n",
      "Found ('00002.mp4', 4573.5) - Expected ('00002.mp4', 4351, 4950)\n",
      "Found ('00001.mp4', 5310.5) - Expected ('00001.mp4', 5008, 5508)\n"
     ]
    }
   ],
   "source": [
    "for i, test_segment in enumerate(test_set):\n",
    "    found = search.knownImageSearch(test_segment, training_set, cv2.HISTCMP_CHISQR_ALT, 5, HIST_FRAME_SKIP)\n",
    "    \n",
    "    print('Found {} - Expected {}'.format(found, labels[i]))"
   ]
  },
  {
   "cell_type": "markdown",
   "metadata": {},
   "source": [
    "## Run model on test set"
   ]
  },
  {
   "cell_type": "code",
   "execution_count": 172,
   "metadata": {},
   "outputs": [
    {
     "name": "stdout",
     "output_type": "stream",
     "text": [
      "92.9 ms ± 698 µs per loop (mean ± std. dev. of 7 runs, 5 loops each)\n",
      "93.6 ms ± 2.06 ms per loop (mean ± std. dev. of 7 runs, 5 loops each)\n",
      "92.6 ms ± 983 µs per loop (mean ± std. dev. of 7 runs, 5 loops each)\n",
      "93.1 ms ± 1.88 ms per loop (mean ± std. dev. of 7 runs, 5 loops each)\n",
      "95.1 ms ± 1.67 ms per loop (mean ± std. dev. of 7 runs, 5 loops each)\n",
      "97.2 ms ± 6.8 ms per loop (mean ± std. dev. of 7 runs, 5 loops each)\n"
     ]
    }
   ],
   "source": [
    "for method in [cv2.HISTCMP_CORREL, cv2.HISTCMP_CHISQR, cv2.HISTCMP_INTERSECT,\n",
    "               cv2.HISTCMP_BHATTACHARYYA, cv2.HISTCMP_CHISQR_ALT, cv2.HISTCMP_KL_DIV]:\n",
    "    %timeit -n 1 search.knownImageSearch(test_set[0], training_set, cv2.HISTCMP_CHISQR_ALT, 5, HIST_FRAME_SKIP)   "
   ]
  },
  {
   "cell_type": "code",
   "execution_count": 496,
   "metadata": {},
   "outputs": [
    {
     "name": "stdout",
     "output_type": "stream",
     "text": [
      "Searching segment 10/10"
     ]
    }
   ],
   "source": [
    "results = []\n",
    "\n",
    "for i, test_segment in enumerate(test_set):\n",
    "    print(\"\\rSearching segment {}/{}\".format(i+1, len(test_set), len(test_segment)), end='', flush=True)\n",
    "    \n",
    "    results.append(search.knownImageSearch(test_segment, training_set, cv2.HISTCMP_CHISQR_ALT, 5, \n",
    "                                    HIST_FRAME_SKIP))\n"
   ]
  },
  {
   "cell_type": "markdown",
   "metadata": {},
   "source": [
    "## Evaluate performance"
   ]
  },
  {
   "cell_type": "code",
   "execution_count": 497,
   "metadata": {},
   "outputs": [
    {
     "name": "stdout",
     "output_type": "stream",
     "text": [
      "TEST RESULTS\n",
      "\n",
      "Num. Vid 2 - Grid 2 - Bins [45, 64] - Skip 2\n",
      "\n",
      "Correct video: 10 / 10 (100.0%)\n",
      "Inside fragment: 10 / 10 (100.0%)\n",
      "Average distance to center of segment: 80 +/- 54 frames (approx. 2.7 sec)\n"
     ]
    }
   ],
   "source": [
    "movie_results, start_frame_dist = evaluate(results, labels)\n",
    "\n",
    "fractions = (movie_results[0] / movie_results[2]*100 if movie_results[2] > 0 else 0, \\\n",
    "             movie_results[1] / movie_results[0]*100 if movie_results[0] > 0 else 0)\n",
    "\n",
    "print(\"TEST RESULTS\\n\")\n",
    "\n",
    "printParams()\n",
    "print(\"\\nCorrect video: {:d} / {:d} ({:.1f}%)\".format(movie_results[0], movie_results[2], fractions[0]))\n",
    "print(\"Inside fragment: {:d} / {:d} ({:.1f}%)\".format(movie_results[1], movie_results[0], fractions[1]))\n",
    "print(\"Average distance to center of segment: {:.0f} +/- {:.0f} frames (approx. {:.1f} sec)\".format(\n",
    "    start_frame_dist[0], start_frame_dist[1], start_frame_dist[0]/30))"
   ]
  },
  {
   "cell_type": "code",
   "execution_count": 352,
   "metadata": {},
   "outputs": [
    {
     "name": "stdout",
     "output_type": "stream",
     "text": [
      "1\n",
      "inner 2\n",
      "inner 3\n",
      "4\n",
      "inner 5\n",
      "inner 6\n",
      "7\n",
      "inner 8\n",
      "inner 9\n",
      "10\n",
      "inner 11\n",
      "inner 12\n",
      "13\n",
      "inner 14\n",
      "inner 15\n",
      "16\n",
      "inner 17\n",
      "inner 18\n",
      "19\n"
     ]
    }
   ],
   "source": [
    "def gen():\n",
    "    for i in range(1,20):\n",
    "        yield(i)\n",
    "        \n",
    "g = gen()\n",
    "\n",
    "for i in g:\n",
    "    print(i)\n",
    "    for _ in range(2):\n",
    "        try:\n",
    "            print('inner', next(g))\n",
    "        except StopIteration:\n",
    "            pass\n",
    "    "
   ]
  },
  {
   "cell_type": "code",
   "execution_count": null,
   "metadata": {},
   "outputs": [],
   "source": []
  }
 ],
 "metadata": {
  "kernelspec": {
   "display_name": "Python 3",
   "language": "python",
   "name": "python3"
  },
  "language_info": {
   "codemirror_mode": {
    "name": "ipython",
    "version": 3
   },
   "file_extension": ".py",
   "mimetype": "text/x-python",
   "name": "python",
   "nbconvert_exporter": "python",
   "pygments_lexer": "ipython3",
   "version": "3.7.3"
  }
 },
 "nbformat": 4,
 "nbformat_minor": 2
}
