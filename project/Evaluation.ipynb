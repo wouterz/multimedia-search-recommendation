{
 "cells": [
  {
   "cell_type": "markdown",
   "metadata": {},
   "source": [
    "# Evaluation"
   ]
  },
  {
   "cell_type": "code",
   "execution_count": 1,
   "metadata": {},
   "outputs": [],
   "source": [
    "%load_ext autoreload\n",
    "%autoreload 2"
   ]
  },
  {
   "cell_type": "code",
   "execution_count": 2,
   "metadata": {},
   "outputs": [],
   "source": [
    "import pandas as pd\n",
    "import numpy as np\n",
    "from src import preprocess as prep\n",
    "from src.evaluation import pick_test_segments, generate_test_segments, evaluate_segments, evaluate\n",
    "from src.Video import Video\n",
    "from src.Segment import Segment\n",
    "from src import search\n",
    "import random\n",
    "import cv2"
   ]
  },
  {
   "cell_type": "markdown",
   "metadata": {},
   "source": [
    "## Parameters"
   ]
  },
  {
   "cell_type": "code",
   "execution_count": 73,
   "metadata": {},
   "outputs": [],
   "source": [
    "NUM_VIDEOS = 10\n",
    "GRID_SIZE = 2\n",
    "BINS = [180, 256]\n",
    "HIST_FRAME_SKIP = 3\n",
    "REFRESH = False\n",
    "\n",
    "# vergeet gebruikte params soms dus print ze maar afentoe\n",
    "def printParams():\n",
    "    print('Num. Vid {} - Grid {} - Bins {} - Skip {}'.format(NUM_VIDEOS, GRID_SIZE, BINS, HIST_FRAME_SKIP))"
   ]
  },
  {
   "cell_type": "markdown",
   "metadata": {},
   "source": [
    "## Load training set / generate test set"
   ]
  },
  {
   "cell_type": "code",
   "execution_count": 74,
   "metadata": {},
   "outputs": [
    {
     "name": "stdout",
     "output_type": "stream",
     "text": [
      "Num. Vid 10 - Grid 2 - Bins [180, 256] - Skip 3\n",
      "Loading / processing dataset...\n",
      "Done processing!"
     ]
    }
   ],
   "source": [
    "printParams()\n",
    "training_set = prep.load_training_set(range(1, NUM_VIDEOS+1), GRID_SIZE, BINS, HIST_FRAME_SKIP, force_refresh=REFRESH)"
   ]
  },
  {
   "cell_type": "code",
   "execution_count": 75,
   "metadata": {},
   "outputs": [],
   "source": [
    "# Set of 100 custom fragments with duration 20sec\n",
    "test_set, labels = generate_test_segments(training_set, n=100, duration=20)"
   ]
  },
  {
   "cell_type": "code",
   "execution_count": 76,
   "metadata": {},
   "outputs": [
    {
     "name": "stdout",
     "output_type": "stream",
     "text": [
      "TRAINING SET:\n",
      "Num. videos:    10\n",
      "Num. segments:  972\n",
      "Duration:       3,053.0 s\n",
      "Num frames:     82526\n",
      "Num histograms: 27826\n",
      "\n",
      "TEST SET:\n",
      "Size: 100\n"
     ]
    }
   ],
   "source": [
    "# Print statistics\n",
    "print(\"TRAINING SET:\")\n",
    "print(\"Num. videos:    {:d}\".format( len(training_set)) )\n",
    "print(\"Num. segments:  {:d}\".format( np.sum([len(video.segments) for video in training_set])) )\n",
    "print(\"Duration:       {:,.1f} s\".format( np.sum([np.sum([segment.duration() for segment in video.segments]) for video in training_set])) )\n",
    "print(\"Num frames:     {:d}\".format( np.sum([np.sum([segment.num_frames() for segment in video.segments]) for video in training_set])) )\n",
    "print(\"Num histograms: {:d}\".format( np.sum([np.sum([len(segment.histograms) for segment in video.segments]) for video in training_set])) )\n",
    "\n",
    "print(\"\\nTEST SET:\")\n",
    "print(\"Size: {:d}\".format( len(test_set) ))"
   ]
  },
  {
   "cell_type": "markdown",
   "metadata": {},
   "source": [
    "# Small manual test"
   ]
  },
  {
   "cell_type": "code",
   "execution_count": 87,
   "metadata": {},
   "outputs": [
    {
     "name": "stdout",
     "output_type": "stream",
     "text": [
      "Found ('00009.mp4', 5202) - Expected ('00009.mp4', 4913, 5393)\n",
      "Found ('00009.mp4', 5202) - Expected ('00009.mp4', 4913, 5393)\n",
      "Found ('00009.mp4', 5164) - Expected ('00009.mp4', 4913, 5393)\n",
      "Found ('00009.mp4', 5202) - Expected ('00009.mp4', 4913, 5393)\n",
      "Found ('00009.mp4', 5202) - Expected ('00009.mp4', 4913, 5393)\n",
      "start_frame 3135 3615 480\n",
      "('00009.mp4', 4437)\n",
      "('00009.mp4', 4437)\n",
      "('00009.mp4', 4437)\n",
      "('00009.mp4', 4437)\n",
      "('00009.mp4', 4437)\n",
      "('00009.mp4', 4437)\n",
      "('00009.mp4', 4437)\n",
      "('00009.mp4', 4437)\n",
      "('00009.mp4', 4437)\n",
      "('00009.mp4', 4437)\n"
     ]
    }
   ],
   "source": [
    "pr = False\n",
    "for i in range(0,1):\n",
    "    for j in range(5):\n",
    "        x = random.choice(range(len(test_set[i])))\n",
    "        found = search.findFrame(test_set[i][x], training_set, cv2.HISTCMP_CHISQR, 10, prints= pr, warnings=pr)\n",
    "        print('Found {} - Expected {}'.format(found, labels[i]))\n",
    "\n",
    "        \n",
    "test_histograms = prep.get_test_video(\"{:05d}\".format(9), GRID_SIZE, BINS)\n",
    "for i in range(10):\n",
    "    found = search.findFrame(test_histograms[i], training_set, cv2.HISTCMP_CHISQR, 10, prints= pr, warnings=pr)\n",
    "    print(found)"
   ]
  },
  {
   "cell_type": "markdown",
   "metadata": {},
   "source": [
    "## Run model on test set"
   ]
  },
  {
   "cell_type": "code",
   "execution_count": 9,
   "metadata": {},
   "outputs": [
    {
     "name": "stdout",
     "output_type": "stream",
     "text": [
      "969 ms ± 12.7 ms per loop (mean ± std. dev. of 7 runs, 1 loop each)\n",
      "822 ms ± 3.4 ms per loop (mean ± std. dev. of 7 runs, 1 loop each)\n",
      "\n",
      "1.12 s ± 23.3 ms per loop (mean ± std. dev. of 7 runs, 1 loop each)\n",
      "944 ms ± 6.21 ms per loop (mean ± std. dev. of 7 runs, 1 loop each)\n",
      "\n",
      "925 ms ± 12.2 ms per loop (mean ± std. dev. of 7 runs, 1 loop each)\n",
      "786 ms ± 22.7 ms per loop (mean ± std. dev. of 7 runs, 1 loop each)\n",
      "\n",
      "1.06 s ± 29.8 ms per loop (mean ± std. dev. of 7 runs, 1 loop each)\n",
      "876 ms ± 9.37 ms per loop (mean ± std. dev. of 7 runs, 1 loop each)\n",
      "\n",
      "1.25 s ± 44.6 ms per loop (mean ± std. dev. of 7 runs, 1 loop each)\n",
      "1.06 s ± 9.8 ms per loop (mean ± std. dev. of 7 runs, 1 loop each)\n",
      "\n",
      "1.71 s ± 15.2 ms per loop (mean ± std. dev. of 7 runs, 1 loop each)\n",
      "1.53 s ± 15.2 ms per loop (mean ± std. dev. of 7 runs, 1 loop each)\n",
      "\n"
     ]
    }
   ],
   "source": [
    "for method in [cv2.HISTCMP_CORREL, cv2.HISTCMP_CHISQR, cv2.cv2.HISTCMP_INTERSECT,\n",
    "               cv2.HISTCMP_BHATTACHARYYA, cv2.HISTCMP_CHISQR_ALT, cv2.HISTCMP_KL_DIV]:\n",
    "# for method in [cv2.HISTCMP_BHATTACHARYYA]:\n",
    "    %timeit -n 1 search.findFrame_old(test_set[0][0], training_set, method, warnings = False)\n",
    "    %timeit -n 1 search.findFrame(test_set[0][0], training_set, method, warnings = False)\n",
    "    print()\n",
    "\n",
    "# for ch in [[0], [1], [0, 1]]:\n",
    "#     print('{}'.format(ch))\n",
    "#     %timeit -n 10 search.findFrame(test_set[0], training_set, cv2.HISTCMP_CORREL, channels=ch)"
   ]
  },
  {
   "cell_type": "code",
   "execution_count": 127,
   "metadata": {},
   "outputs": [
    {
     "name": "stdout",
     "output_type": "stream",
     "text": [
      "Searching segment 100/100"
     ]
    }
   ],
   "source": [
    "results = []\n",
    "\n",
    "for i, histogram in enumerate(test_set):\n",
    "    print(\"\\rSearching segment {}/{}\".format(i+1, len(test_set), len(histogram)), end='', flush=True)\n",
    "    \n",
    "    results.append(search.findFrame(histogram[0], training_set, cv2.HISTCMP_CHISQR_ALT, 2, warnings = False))"
   ]
  },
  {
   "cell_type": "markdown",
   "metadata": {},
   "source": [
    "## Evaluate performance"
   ]
  },
  {
   "cell_type": "code",
   "execution_count": 129,
   "metadata": {},
   "outputs": [
    {
     "name": "stdout",
     "output_type": "stream",
     "text": [
      "TEST RESULTS\n",
      "\n",
      "Num. Vid 200 - Grid 2 - Bins [180, 256] - Skip 20\n",
      "\n",
      "Correct video:                   94 / 100 (94.0%)\n",
      "Inside fragment:                 89 / 94 (94.7%)\n",
      "Average distance to start frame: 93 +/- 102 frames (approx. 3.7 sec)\n"
     ]
    }
   ],
   "source": [
    "movie_results, start_frame_dist = evaluate(results, labels)\n",
    "\n",
    "fractions = (movie_results[0] / movie_results[2]*100 if movie_results[2] > 0 else 0, movie_results[1] / movie_results[0]*100 if movie_results[0] > 0 else 0)\n",
    "\n",
    "print(\"TEST RESULTS\\n\")\n",
    "\n",
    "printParams()\n",
    "print(\"\\nCorrect video:                   {:d} / {:d} ({:.1f}%)\".format(movie_results[0], movie_results[2], fractions[0]))\n",
    "print(\"Inside fragment:                 {:d} / {:d} ({:.1f}%)\".format(movie_results[1], movie_results[0], fractions[1]))\n",
    "print(\"Average distance to start frame: {:.0f} +/- {:.0f} frames (approx. {:.1f} sec)\".format(start_frame_dist[0], start_frame_dist[1], start_frame_dist[0]/25))"
   ]
  }
 ],
 "metadata": {
  "kernelspec": {
   "display_name": "Python 3",
   "language": "python",
   "name": "python3"
  },
  "language_info": {
   "codemirror_mode": {
    "name": "ipython",
    "version": 3
   },
   "file_extension": ".py",
   "mimetype": "text/x-python",
   "name": "python",
   "nbconvert_exporter": "python",
   "pygments_lexer": "ipython3",
   "version": "3.7.3"
  }
 },
 "nbformat": 4,
 "nbformat_minor": 2
}
