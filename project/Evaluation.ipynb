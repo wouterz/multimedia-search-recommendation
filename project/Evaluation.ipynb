{
 "cells": [
  {
   "cell_type": "markdown",
   "metadata": {},
   "source": [
    "# Evaluation"
   ]
  },
  {
   "cell_type": "code",
   "execution_count": 83,
   "metadata": {},
   "outputs": [
    {
     "name": "stdout",
     "output_type": "stream",
     "text": [
      "The autoreload extension is already loaded. To reload it, use:\n",
      "  %reload_ext autoreload\n"
     ]
    }
   ],
   "source": [
    "%load_ext autoreload\n",
    "%autoreload 2"
   ]
  },
  {
   "cell_type": "code",
   "execution_count": 84,
   "metadata": {},
   "outputs": [],
   "source": [
    "import pandas as pd\n",
    "import numpy as np\n",
    "from src import preprocess as prep\n",
    "import random\n",
    "from src.Video import Video\n",
    "from src.Segment import Segment\n",
    "from src import search\n",
    "import cv2"
   ]
  },
  {
   "cell_type": "markdown",
   "metadata": {},
   "source": [
    "## Parameters"
   ]
  },
  {
   "cell_type": "code",
   "execution_count": 93,
   "metadata": {},
   "outputs": [],
   "source": [
    "NUM_VIDEOS = 200\n",
    "GRID_SIZE = 2\n",
    "BINS = [180, 180]"
   ]
  },
  {
   "cell_type": "markdown",
   "metadata": {},
   "source": [
    "## Load training set"
   ]
  },
  {
   "cell_type": "code",
   "execution_count": 94,
   "metadata": {},
   "outputs": [
    {
     "name": "stdout",
     "output_type": "stream",
     "text": [
      "Loading / processing dataset...\n",
      "Done processing!"
     ]
    }
   ],
   "source": [
    "training_set_generator = prep.load_training_set(range(1, NUM_VIDEOS+1), GRID_SIZE, BINS)"
   ]
  },
  {
   "cell_type": "code",
   "execution_count": 35,
   "metadata": {},
   "outputs": [],
   "source": [
    "training_set = list(training_set_generator)"
   ]
  },
  {
   "cell_type": "code",
   "execution_count": 39,
   "metadata": {},
   "outputs": [
    {
     "name": "stdout",
     "output_type": "stream",
     "text": [
      "TRAINING SET:\n",
      "Num. videos:   50\n",
      "Num. segments: 6671\n",
      "Duration:      23,576.4 s\n"
     ]
    }
   ],
   "source": [
    "# Print statistics\n",
    "print(\"TRAINING SET:\")\n",
    "print(\"Num. videos:   {:d}\".format( len(training_set)) )\n",
    "print(\"Num. segments: {:d}\".format( np.sum([len(video.segments) for video in training_set])) )\n",
    "print(\"Duration:      {:,.1f} s\".format( np.sum([np.sum([segment.duration() for segment in video.segments]) for video in training_set])) )"
   ]
  },
  {
   "cell_type": "markdown",
   "metadata": {},
   "source": [
    "## Select random test set"
   ]
  },
  {
   "cell_type": "code",
   "execution_count": 40,
   "metadata": {},
   "outputs": [],
   "source": [
    "test_n_segments = 1000\n",
    "test_set = []\n",
    "labels = []\n",
    "\n",
    "for i in range(test_n_segments):\n",
    "    \n",
    "    # Find random video\n",
    "    video = random.choice(training_set)\n",
    "    \n",
    "    # Select random segment and add histogram to test set\n",
    "    segment = random.choice(video.segments)\n",
    "    test_set.append(segment.histograms)\n",
    "    labels.append(segment)"
   ]
  },
  {
   "cell_type": "code",
   "execution_count": 41,
   "metadata": {},
   "outputs": [
    {
     "name": "stdout",
     "output_type": "stream",
     "text": [
      "TEST SET:\n",
      "Num. histograms: 1000\n"
     ]
    }
   ],
   "source": [
    "# Print statistics\n",
    "print(\"TEST SET:\")\n",
    "print(\"Num. histograms: {:d}\".format( len(test_set) ))"
   ]
  },
  {
   "cell_type": "markdown",
   "metadata": {},
   "source": [
    "<br><br>"
   ]
  },
  {
   "cell_type": "markdown",
   "metadata": {},
   "source": [
    "## Run model on test set"
   ]
  },
  {
   "cell_type": "code",
   "execution_count": 45,
   "metadata": {},
   "outputs": [
    {
     "name": "stdout",
     "output_type": "stream",
     "text": [
      "28.1 ms ± 473 µs per loop (mean ± std. dev. of 7 runs, 10 loops each)\n",
      "34 ms ± 201 µs per loop (mean ± std. dev. of 7 runs, 10 loops each)\n",
      "26.3 ms ± 241 µs per loop (mean ± std. dev. of 7 runs, 10 loops each)\n",
      "29.1 ms ± 138 µs per loop (mean ± std. dev. of 7 runs, 10 loops each)\n",
      "34.2 ms ± 236 µs per loop (mean ± std. dev. of 7 runs, 10 loops each)\n",
      "49.2 ms ± 189 µs per loop (mean ± std. dev. of 7 runs, 10 loops each)\n"
     ]
    }
   ],
   "source": [
    "%timeit search.find(test_set[0], training_set, cv2.HISTCMP_CORREL)\n",
    "%timeit search.find(test_set[0], training_set, cv2.HISTCMP_CHISQR_ALT)\n",
    "%timeit search.find(test_set[0], training_set, cv2.HISTCMP_INTERSECT)\n",
    "%timeit search.find(test_set[0], training_set, cv2.HISTCMP_BHATTACHARYYA)\n",
    "%timeit search.find(test_set[0], training_set, cv2.HISTCMP_CHISQR_ALT)\n",
    "%timeit search.find(test_set[0], training_set, cv2.HISTCMP_KL_DIV))"
   ]
  },
  {
   "cell_type": "code",
   "execution_count": 42,
   "metadata": {},
   "outputs": [],
   "source": [
    "results = []\n",
    "\n",
    "for histogram in test_set:\n",
    "    results.append(search.find(histogram, training_set, cv2.HISTCMP_INTERSECT))"
   ]
  },
  {
   "cell_type": "markdown",
   "metadata": {},
   "source": [
    "## Evaluate performance"
   ]
  },
  {
   "cell_type": "code",
   "execution_count": 46,
   "metadata": {},
   "outputs": [
    {
     "name": "stdout",
     "output_type": "stream",
     "text": [
      "Correct: 979\n",
      "Wrong:   21\n",
      "Total:   1000\n",
      "TPR:     97.9%\n"
     ]
    }
   ],
   "source": [
    "movie_correct = 0\n",
    "movie_wrong = 0\n",
    "\n",
    "for segment, label in zip(results, labels):\n",
    "    \n",
    "    # Check if movie is correct\n",
    "    if segment == label:\n",
    "        movie_correct += 1\n",
    "    else:\n",
    "        movie_wrong += 1\n",
    "\n",
    "total = movie_correct + movie_wrong\n",
    "fraction = movie_correct / total if total > 0 else 0\n",
    "\n",
    "print(\"Correct: {:d}\".format(movie_correct))\n",
    "print(\"Wrong:   {:d}\".format(movie_wrong))\n",
    "print(\"Total:   {:d}\".format(total))\n",
    "print(\"TPR:     {:.1f}%\".format(movie_correct / total * 100))"
   ]
  },
  {
   "cell_type": "code",
   "execution_count": null,
   "metadata": {},
   "outputs": [],
   "source": []
  }
 ],
 "metadata": {
  "kernelspec": {
   "display_name": "Python 3",
   "language": "python",
   "name": "python3"
  },
  "language_info": {
   "codemirror_mode": {
    "name": "ipython",
    "version": 3
   },
   "file_extension": ".py",
   "mimetype": "text/x-python",
   "name": "python",
   "nbconvert_exporter": "python",
   "pygments_lexer": "ipython3",
   "version": "3.7.3"
  }
 },
 "nbformat": 4,
 "nbformat_minor": 2
}
