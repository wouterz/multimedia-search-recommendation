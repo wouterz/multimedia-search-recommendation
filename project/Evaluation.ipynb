{
 "cells": [
  {
   "cell_type": "markdown",
   "metadata": {},
   "source": [
    "# Evaluation"
   ]
  },
  {
   "cell_type": "code",
   "execution_count": 1,
   "metadata": {},
   "outputs": [],
   "source": [
    "%load_ext autoreload\n",
    "%autoreload 2"
   ]
  },
  {
   "cell_type": "code",
   "execution_count": 123,
   "metadata": {},
   "outputs": [],
   "source": [
    "import pandas as pd\n",
    "import numpy as np\n",
    "from src import preprocess as prep\n",
    "import random\n",
    "from src.Video import Video\n",
    "from src.Segment import Segment"
   ]
  },
  {
   "cell_type": "markdown",
   "metadata": {},
   "source": [
    "## Load training set"
   ]
  },
  {
   "cell_type": "code",
   "execution_count": 152,
   "metadata": {},
   "outputs": [],
   "source": [
    "num_videos = 1\n",
    "\n",
    "training_set_generator = prep.load_training_set(range(1, num_videos+1))"
   ]
  },
  {
   "cell_type": "code",
   "execution_count": 153,
   "metadata": {},
   "outputs": [
    {
     "name": "stdout",
     "output_type": "stream",
     "text": []
    }
   ],
   "source": [
    "training_set = list(training_set_generator)"
   ]
  },
  {
   "cell_type": "code",
   "execution_count": 154,
   "metadata": {},
   "outputs": [
    {
     "name": "stdout",
     "output_type": "stream",
     "text": [
      "TRAINING SET:\n",
      "Num. videos:   1\n",
      "Num. segments: 114\n",
      "Duration:      268.4 s\n"
     ]
    }
   ],
   "source": [
    "# Print statistics\n",
    "print(\"TRAINING SET:\")\n",
    "print(\"Num. videos:   {:d}\".format( len(training_set)) )\n",
    "print(\"Num. segments: {:d}\".format( np.sum([len(video.segments) for video in training_set])) )\n",
    "print(\"Duration:      {:,.1f} s\".format( np.sum([np.sum([segment.duration() for segment in video.segments]) for video in training_set])) )"
   ]
  },
  {
   "cell_type": "markdown",
   "metadata": {},
   "source": [
    "## Select random test set"
   ]
  },
  {
   "cell_type": "code",
   "execution_count": 156,
   "metadata": {},
   "outputs": [],
   "source": [
    "test_n_segments = 1000\n",
    "test_set = []\n",
    "labels = []\n",
    "\n",
    "for i in range(test_n_segments):\n",
    "    \n",
    "    # Find random video\n",
    "    video = random.choice(training_set)\n",
    "    \n",
    "    # Select random segment and add histogram to test set\n",
    "    segment = random.choice(video.segments)\n",
    "    test_set.append(segment.histograms)\n",
    "    labels.append(segment)"
   ]
  },
  {
   "cell_type": "code",
   "execution_count": 157,
   "metadata": {},
   "outputs": [
    {
     "name": "stdout",
     "output_type": "stream",
     "text": [
      "TEST SET:\n",
      "Num. histograms: 1000\n"
     ]
    }
   ],
   "source": [
    "# Print statistics\n",
    "print(\"TEST SET:\")\n",
    "print(\"Num. histograms: {:d}\".format( len(test_set) ))"
   ]
  },
  {
   "cell_type": "markdown",
   "metadata": {},
   "source": [
    "<br><br>"
   ]
  },
  {
   "cell_type": "markdown",
   "metadata": {},
   "source": [
    "## Run model on test set"
   ]
  },
  {
   "cell_type": "code",
   "execution_count": 260,
   "metadata": {},
   "outputs": [],
   "source": [
    "results = []\n",
    "\n",
    "for histogram in test_set:\n",
    "    results.append(find(training_set, histogram))"
   ]
  },
  {
   "cell_type": "code",
   "execution_count": 261,
   "metadata": {},
   "outputs": [],
   "source": [
    "def find(training_set : [Video], segment: np.ndarray) -> Segment:\n",
    "    \n",
    "    # TODO: actually find segment here\n",
    "    return random.choice(random.choice(training_set).segments)"
   ]
  },
  {
   "cell_type": "markdown",
   "metadata": {},
   "source": [
    "## Evaluate performance"
   ]
  },
  {
   "cell_type": "code",
   "execution_count": 262,
   "metadata": {},
   "outputs": [
    {
     "name": "stdout",
     "output_type": "stream",
     "text": [
      "Correct: 10\n",
      "Wrong:   990\n",
      "Total:   1000\n",
      "TPR:     1.0%\n"
     ]
    }
   ],
   "source": [
    "movie_correct = 0\n",
    "movie_wrong = 0\n",
    "\n",
    "for segment, label in zip(results, labels):\n",
    "    \n",
    "    # Check if movie is correct\n",
    "    if segment == label:\n",
    "        movie_correct += 1\n",
    "    else:\n",
    "        movie_wrong += 1\n",
    "\n",
    "total = movie_correct + movie_wrong\n",
    "fraction = movie_correct / total if total > 0 else 0\n",
    "\n",
    "print(\"Correct: {:d}\".format(movie_correct))\n",
    "print(\"Wrong:   {:d}\".format(movie_wrong))\n",
    "print(\"Total:   {:d}\".format(total))\n",
    "print(\"TPR:     {:.1f}%\".format(movie_correct / total * 100))"
   ]
  }
 ],
 "metadata": {
  "kernelspec": {
   "display_name": "Python 3",
   "language": "python",
   "name": "python3"
  },
  "language_info": {
   "codemirror_mode": {
    "name": "ipython",
    "version": 3
   },
   "file_extension": ".py",
   "mimetype": "text/x-python",
   "name": "python",
   "nbconvert_exporter": "python",
   "pygments_lexer": "ipython3",
   "version": "3.7.2"
  }
 },
 "nbformat": 4,
 "nbformat_minor": 2
}
