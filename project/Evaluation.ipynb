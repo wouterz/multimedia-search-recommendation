{
 "cells": [
  {
   "cell_type": "markdown",
   "metadata": {},
   "source": [
    "# Evaluation"
   ]
  },
  {
   "cell_type": "code",
   "execution_count": 74,
   "metadata": {},
   "outputs": [
    {
     "name": "stdout",
     "output_type": "stream",
     "text": [
      "The autoreload extension is already loaded. To reload it, use:\n",
      "  %reload_ext autoreload\n"
     ]
    }
   ],
   "source": [
    "%load_ext autoreload\n",
    "%autoreload 2"
   ]
  },
  {
   "cell_type": "code",
   "execution_count": 75,
   "metadata": {},
   "outputs": [],
   "source": [
    "import pandas as pd\n",
    "import numpy as np\n",
    "from src import preprocess as prep\n",
    "from src.evaluation import evaluate_segments\n",
    "import random\n",
    "from src.Video import Video\n",
    "from src.Segment import Segment\n",
    "from src import search\n",
    "import cv2"
   ]
  },
  {
   "cell_type": "markdown",
   "metadata": {},
   "source": [
    "## Parameters"
   ]
  },
  {
   "cell_type": "code",
   "execution_count": 76,
   "metadata": {},
   "outputs": [],
   "source": [
    "NUM_VIDEOS = 2\n",
    "GRID_SIZE = 2\n",
    "BINS = [180, 180]\n",
    "HIST_FRAME_SKIP = 20\n",
    "REFRESH = False\n",
    "\n",
    "# vergeet gebruikte params soms dus print ze maar afentoe\n",
    "def printParams():\n",
    "    print('Num. Vid {} - Grid {} - Bins {} - Skip {}'.format(NUM_VIDEOS, GRID_SIZE, BINS, HIST_FRAME_SKIP))"
   ]
  },
  {
   "cell_type": "markdown",
   "metadata": {},
   "source": [
    "## Load training set"
   ]
  },
  {
   "cell_type": "code",
   "execution_count": 77,
   "metadata": {},
   "outputs": [
    {
     "name": "stdout",
     "output_type": "stream",
     "text": [
      "Num. Vid 2 - Grid 2 - Bins [180, 180] - Skip 20\n",
      "Loading / processing dataset...\n",
      "Done processing!"
     ]
    }
   ],
   "source": [
    "printParams()\n",
    "training_set = prep.load_training_set(range(1, NUM_VIDEOS+1), GRID_SIZE, BINS, HIST_FRAME_SKIP, force_refresh=REFRESH)"
   ]
  },
  {
   "cell_type": "code",
   "execution_count": 78,
   "metadata": {
    "scrolled": true
   },
   "outputs": [
    {
     "name": "stdout",
     "output_type": "stream",
     "text": [
      "TRAINING SET:\n",
      "Num. videos:   2\n",
      "Num. segments: 189\n",
      "Duration:      529.7 s\n",
      "Num frames:      14542\n",
      "Num histograms:      827\n"
     ]
    }
   ],
   "source": [
    "# Print statistics\n",
    "print(\"TRAINING SET:\")\n",
    "print(\"Num. videos:   {:d}\".format( len(training_set)) )\n",
    "print(\"Num. segments: {:d}\".format( np.sum([len(video.segments) for video in training_set])) )\n",
    "print(\"Duration:      {:,.1f} s\".format( np.sum([np.sum([segment.duration() for segment in video.segments]) for video in training_set])) )\n",
    "print(\"Num frames:      {:d}\".format( np.sum([np.sum([segment.num_frames() for segment in video.segments]) for video in training_set])) )\n",
    "print(\"Num histograms:      {:d}\".format( np.sum([np.sum([len(segment.histograms) for segment in video.segments]) for video in training_set])) )"
   ]
  },
  {
   "cell_type": "markdown",
   "metadata": {},
   "source": [
    "## Select random test set"
   ]
  },
  {
   "cell_type": "code",
   "execution_count": 79,
   "metadata": {},
   "outputs": [],
   "source": [
    "test_n_segments = 100\n",
    "test_set = []\n",
    "labels = []\n",
    "\n",
    "for i in range(test_n_segments):\n",
    "    \n",
    "    # Find random video\n",
    "    video = random.choice(training_set)\n",
    "    \n",
    "    # Select random segment and add histogram to test set\n",
    "    segment = random.choice(video.segments)\n",
    "    test_set.append(segment.histograms)\n",
    "    labels.append(segment)"
   ]
  },
  {
   "cell_type": "code",
   "execution_count": 80,
   "metadata": {},
   "outputs": [
    {
     "name": "stdout",
     "output_type": "stream",
     "text": [
      "TEST SET:\n",
      "Num. histograms: 375\n"
     ]
    }
   ],
   "source": [
    "# Print statistics\n",
    "print(\"TEST SET:\")\n",
    "print(\"Num. histograms: {:d}\".format( np.sum([len(histogram) for histogram in test_set]) ))"
   ]
  },
  {
   "cell_type": "markdown",
   "metadata": {},
   "source": [
    "<br>"
   ]
  },
  {
   "cell_type": "markdown",
   "metadata": {},
   "source": [
    "## Run model on test set"
   ]
  },
  {
   "cell_type": "code",
   "execution_count": 81,
   "metadata": {},
   "outputs": [
    {
     "name": "stdout",
     "output_type": "stream",
     "text": [
      "Num. Vid 2 - Grid 2 - Bins [180, 180] - Skip 20\n",
      "0\n",
      "3.77 ms ± 370 µs per loop (mean ± std. dev. of 7 runs, 10 loops each)\n",
      "1\n",
      "4.7 ms ± 198 µs per loop (mean ± std. dev. of 7 runs, 10 loops each)\n",
      "2\n",
      "4.8 ms ± 194 µs per loop (mean ± std. dev. of 7 runs, 10 loops each)\n",
      "3\n",
      "4.34 ms ± 563 µs per loop (mean ± std. dev. of 7 runs, 10 loops each)\n",
      "4\n",
      "6.38 ms ± 180 µs per loop (mean ± std. dev. of 7 runs, 10 loops each)\n",
      "5\n",
      "5.1 ms ± 241 µs per loop (mean ± std. dev. of 7 runs, 10 loops each)\n",
      "[0]\n",
      "2.01 ms ± 67.7 µs per loop (mean ± std. dev. of 7 runs, 10 loops each)\n",
      "[1]\n",
      "2.06 ms ± 119 µs per loop (mean ± std. dev. of 7 runs, 10 loops each)\n",
      "[0, 1]\n",
      "3.55 ms ± 121 µs per loop (mean ± std. dev. of 7 runs, 10 loops each)\n"
     ]
    }
   ],
   "source": [
    "printParams()\n",
    "\n",
    "for method in [cv2.HISTCMP_CORREL, cv2.HISTCMP_CHISQR, cv2.cv2.HISTCMP_INTERSECT,\n",
    "               cv2.HISTCMP_BHATTACHARYYA, cv2.HISTCMP_CHISQR_ALT, cv2.HISTCMP_KL_DIV]:\n",
    "    print('{}'.format(method))\n",
    "    %timeit -n 10 search.findFrame(test_set[0][0], training_set, method)\n",
    "\n",
    "for ch in [[0], [1], [0, 1]]:\n",
    "    print('{}'.format(ch))\n",
    "    %timeit -n 10 search.findFrame(test_set[0][0], training_set, cv2.HISTCMP_CORREL, channels=ch)\n",
    "\n",
    "\n",
    "# %timeit search.find(test_set[0], training_set, cv2.HISTCMP_CORREL)\n",
    "# %timeit search.find(test_set[0], training_set, cv2.HISTCMP_CHISQR)\n",
    "# %timeit search.find(test_set[0], training_set, cv2.HISTCMP_INTERSECT)\n",
    "# %timeit search.find(test_set[0], training_set, cv2.HISTCMP_BHATTACHARYYA)\n",
    "# %timeit search.find(test_set[0], training_set, cv2.HISTCMP_CHISQR_ALT)\n",
    "# %timeit search.find(test_set[0], training_set, cv2.HISTCMP_KL_DIV)"
   ]
  },
  {
   "cell_type": "code",
   "execution_count": 82,
   "metadata": {},
   "outputs": [
    {
     "name": "stdout",
     "output_type": "stream",
     "text": [
      "Num. Vid 2 - Grid 2 - Bins [180, 180] - Skip 20\n",
      "Searching segment 100/100"
     ]
    }
   ],
   "source": [
    "printParams()\n",
    "\n",
    "results = []\n",
    "\n",
    "for i, segment_histograms in enumerate(test_set):\n",
    "    print('\\rSearching segment {}/{}'.format(i+1, len(test_set)), end='', flush=True)\n",
    "    \n",
    "    x = random.choice(range(len(segment_histograms)))\n",
    "    results.append(search.findFrame(segment_histograms[0], training_set, 5, cv2.HISTCMP_CHISQR_ALT))"
   ]
  },
  {
   "cell_type": "markdown",
   "metadata": {},
   "source": [
    "## Evaluate performance"
   ]
  },
  {
   "cell_type": "code",
   "execution_count": 83,
   "metadata": {},
   "outputs": [
    {
     "name": "stdout",
     "output_type": "stream",
     "text": [
      "Segment evaluation:\n",
      "Correct: 0\n",
      "Wrong:   100\n",
      "Total:   100\n",
      "TPR:     0.0%\n"
     ]
    }
   ],
   "source": [
    "evaluate_segments(results, labels)"
   ]
  },
  {
   "cell_type": "markdown",
   "metadata": {},
   "source": [
    "# Manual Evaluation"
   ]
  },
  {
   "cell_type": "code",
   "execution_count": 73,
   "metadata": {},
   "outputs": [
    {
     "name": "stdout",
     "output_type": "stream",
     "text": [
      "video 00001 - segment 109\n",
      "video 00002 - segment 1\n",
      "video 00002 - segment 2\n",
      "video 00002 - segment 3\n",
      "video 00002 - segment 4\n",
      "video 00002 - segment 5\n",
      "video 00002 - segment 6\n",
      "video 00002 - segment 7\n",
      "video 00002 - segment 8\n",
      "video 00002 - segment 9\n",
      "video 00002 - segment 10\n",
      "video 00002 - segment 11\n",
      "video 00002 - segment 12\n",
      "video 00002 - segment 13\n",
      "video 00002 - segment 14\n",
      "video 00002 - segment 15\n",
      "video 00002 - segment 16\n",
      "video 00002 - segment 17\n",
      "video 00002 - segment 18\n",
      "video 00002 - segment 19\n",
      "video 00002 - segment 20\n",
      "video 00002 - segment 21\n",
      "video 00002 - segment 22\n",
      "video 00002 - segment 23\n",
      "video 00002 - segment 24\n",
      "video 00002 - segment 25\n",
      "video 00002 - segment 26\n",
      "video 00002 - segment 27\n",
      "video 00002 - segment 28\n",
      "video 00002 - segment 29\n",
      "video 00002 - segment 30\n",
      "video 00002 - segment 31\n",
      "video 00002 - segment 32\n",
      "video 00002 - segment 33\n",
      "video 00002 - segment 34\n",
      "video 00002 - segment 35\n",
      "video 00002 - segment 36\n",
      "video 00002 - segment 37\n",
      "video 00002 - segment 38\n",
      "video 00002 - segment 39\n",
      "video 00002 - segment 40\n",
      "video 00002 - segment 41\n",
      "video 00002 - segment 42\n",
      "video 00002 - segment 43\n",
      "video 00002 - segment 44\n",
      "video 00002 - segment 45\n",
      "video 00002 - segment 46\n",
      "video 00002 - segment 47\n",
      "video 00002 - segment 48\n",
      "video 00002 - segment 49\n",
      "video 00002 - segment 50\n",
      "video 00002 - segment 51\n",
      "video 00002 - segment 52\n",
      "video 00002 - segment 53\n",
      "video 00002 - segment 54\n",
      "video 00002 - segment 55\n",
      "video 00002 - segment 56\n",
      "video 00002 - segment 57\n",
      "video 00002 - segment 58\n",
      "video 00002 - segment 59\n",
      "video 00002 - segment 60\n",
      "video 00002 - segment 61\n",
      "video 00002 - segment 62\n",
      "video 00002 - segment 63\n",
      "video 00002 - segment 64\n",
      "video 00002 - segment 65\n",
      "video 00002 - segment 66\n",
      "video 00002 - segment 67\n",
      "video 00002 - segment 68\n",
      "video 00002 - segment 69\n",
      "video 00002 - segment 70\n",
      "video 00002 - segment 71\n",
      "video 00002 - segment 72\n",
      "video 00002 - segment 73\n",
      "video 00001 - segment 68\n"
     ]
    }
   ],
   "source": [
    "#Manually check what happens\n",
    "test_vid = 1\n",
    "for i in range(len(training_set[test_vid].segments)):\n",
    "    \n",
    "    hists = training_set[test_vid].segments[i].histograms\n",
    "\n",
    "    #Possibly shrink set for readability\n",
    "    # train = training_set.copy()\n",
    "    # for t in train:\n",
    "    #     t.segments = t.segments[:20]\n",
    "\n",
    "    # 0 = first histogram of segment, so perfect match\n",
    "    tf = 0\n",
    "    search.findFrame(hists[tf], train, cv2.HISTCMP_CHISQR_ALT, 5, prints=False, printRes = True)\n"
   ]
  },
  {
   "cell_type": "code",
   "execution_count": null,
   "metadata": {},
   "outputs": [],
   "source": []
  },
  {
   "cell_type": "code",
   "execution_count": null,
   "metadata": {},
   "outputs": [],
   "source": []
  }
 ],
 "metadata": {
  "kernelspec": {
   "display_name": "Python 3",
   "language": "python",
   "name": "python3"
  },
  "language_info": {
   "codemirror_mode": {
    "name": "ipython",
    "version": 3
   },
   "file_extension": ".py",
   "mimetype": "text/x-python",
   "name": "python",
   "nbconvert_exporter": "python",
   "pygments_lexer": "ipython3",
   "version": "3.7.3"
  }
 },
 "nbformat": 4,
 "nbformat_minor": 2
}
