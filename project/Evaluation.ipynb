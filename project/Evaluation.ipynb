{
 "cells": [
  {
   "cell_type": "markdown",
   "metadata": {},
   "source": [
    "# Evaluation"
   ]
  },
  {
   "cell_type": "code",
   "execution_count": 1,
   "metadata": {},
   "outputs": [],
   "source": [
    "%load_ext autoreload\n",
    "%autoreload 2"
   ]
  },
  {
   "cell_type": "code",
   "execution_count": 2,
   "metadata": {},
   "outputs": [],
   "source": [
    "import pandas as pd\n",
    "import numpy as np\n",
    "from src import preprocess as prep\n",
    "from src.evaluation import pick_test_segments, generate_test_segments, evaluate_segments, evaluate\n",
    "from src.Video import Video\n",
    "from src.Segment import Segment\n",
    "from src import search\n",
    "import random\n",
    "import cv2"
   ]
  },
  {
   "cell_type": "markdown",
   "metadata": {},
   "source": [
    "## Parameters"
   ]
  },
  {
   "cell_type": "code",
   "execution_count": 113,
   "metadata": {},
   "outputs": [],
   "source": [
    "NUM_VIDEOS = 200\n",
    "GRID_SIZE = 2\n",
    "BINS = [180, 256]\n",
    "HIST_FRAME_SKIP = 20\n",
    "REFRESH = False\n",
    "\n",
    "# vergeet gebruikte params soms dus print ze maar afentoe\n",
    "def printParams():\n",
    "    print('Num. Vid {} - Grid {} - Bins {} - Skip {}'.format(NUM_VIDEOS, GRID_SIZE, BINS, HIST_FRAME_SKIP))"
   ]
  },
  {
   "cell_type": "markdown",
   "metadata": {},
   "source": [
    "## Load training set / generate test set"
   ]
  },
  {
   "cell_type": "code",
   "execution_count": 114,
   "metadata": {},
   "outputs": [
    {
     "name": "stdout",
     "output_type": "stream",
     "text": [
      "Num. Vid 200 - Grid 2 - Bins [180, 256] - Skip 20\n",
      "Loading / processing dataset...\n",
      "Done processing!"
     ]
    }
   ],
   "source": [
    "printParams()\n",
    "training_set = prep.load_training_set(range(1, NUM_VIDEOS+1), GRID_SIZE, BINS, HIST_FRAME_SKIP, force_refresh=REFRESH)"
   ]
  },
  {
   "cell_type": "code",
   "execution_count": 115,
   "metadata": {},
   "outputs": [],
   "source": [
    "# Set of 100 custom fragments with duration 20sec\n",
    "test_set, labels = generate_test_segments(training_set, n=100, duration=20)"
   ]
  },
  {
   "cell_type": "code",
   "execution_count": 116,
   "metadata": {},
   "outputs": [
    {
     "name": "stdout",
     "output_type": "stream",
     "text": [
      "TRAINING SET:\n",
      "Num. videos:    200\n",
      "Num. segments:  30070\n",
      "Duration:       97,332.7 s\n",
      "Num frames:     2640076\n",
      "Num histograms: 146284\n",
      "\n",
      "TEST SET:\n",
      "Size: 100\n"
     ]
    }
   ],
   "source": [
    "# Print statistics\n",
    "print(\"TRAINING SET:\")\n",
    "print(\"Num. videos:    {:d}\".format( len(training_set)) )\n",
    "print(\"Num. segments:  {:d}\".format( np.sum([len(video.segments) for video in training_set])) )\n",
    "print(\"Duration:       {:,.1f} s\".format( np.sum([np.sum([segment.duration() for segment in video.segments]) for video in training_set])) )\n",
    "print(\"Num frames:     {:d}\".format( np.sum([np.sum([segment.num_frames() for segment in video.segments]) for video in training_set])) )\n",
    "print(\"Num histograms: {:d}\".format( np.sum([np.sum([len(segment.histograms) for segment in video.segments]) for video in training_set])) )\n",
    "\n",
    "print(\"\\nTEST SET:\")\n",
    "print(\"Size: {:d}\".format( len(test_set) ))"
   ]
  },
  {
   "cell_type": "markdown",
   "metadata": {},
   "source": [
    "# Small manual test"
   ]
  },
  {
   "cell_type": "code",
   "execution_count": 134,
   "metadata": {},
   "outputs": [
    {
     "name": "stdout",
     "output_type": "stream",
     "text": [
      "Found ('00001.mp4', 0) - Expected ('00052.mp4', 3683, 4162)\n"
     ]
    }
   ],
   "source": [
    "pr = False\n",
    "for i in range(3,4):\n",
    "#     x = random.choice(range(len(test_set[i])))\n",
    "    found = search.findFrame(test_set[i][0], training_set, cv2.HISTCMP_CHISQR, 2, prints= pr, warnings=pr)\n",
    "    print('Found {} - Expected {}'.format(found, labels[i]))"
   ]
  },
  {
   "cell_type": "markdown",
   "metadata": {},
   "source": [
    "## Run model on test set"
   ]
  },
  {
   "cell_type": "code",
   "execution_count": 135,
   "metadata": {},
   "outputs": [
    {
     "name": "stdout",
     "output_type": "stream",
     "text": [
      "1 loop, best of 5: 970 ms per loop\n",
      "1 loop, best of 5: 899 ms per loop\n",
      "\n",
      "1 loop, best of 5: 1.06 s per loop\n",
      "1 loop, best of 5: 897 ms per loop\n",
      "\n",
      "1 loop, best of 5: 966 ms per loop\n",
      "1 loop, best of 5: 816 ms per loop\n",
      "\n",
      "1 loop, best of 5: 1.01 s per loop\n",
      "1 loop, best of 5: 858 ms per loop\n",
      "\n",
      "1 loop, best of 5: 1.24 s per loop\n",
      "1 loop, best of 5: 1.02 s per loop\n",
      "\n",
      "1 loop, best of 5: 1.07 s per loop\n",
      "1 loop, best of 5: 952 ms per loop\n",
      "\n"
     ]
    }
   ],
   "source": [
    "for method in [cv2.HISTCMP_CORREL, cv2.HISTCMP_CHISQR, cv2.cv2.HISTCMP_INTERSECT,\n",
    "               cv2.HISTCMP_BHATTACHARYYA, cv2.HISTCMP_CHISQR_ALT, cv2.HISTCMP_KL_DIV]:\n",
    "# for method in [cv2.HISTCMP_BHATTACHARYYA]:\n",
    "    %timeit -n 1 search.findFrame_old(test_set[0][0], training_set, method, warnings = False)\n",
    "    %timeit -n 1 search.findFrame(test_set[0][0], training_set, method, warnings = False)\n",
    "    print()\n",
    "\n",
    "# for ch in [[0], [1], [0, 1]]:\n",
    "#     print('{}'.format(ch))\n",
    "#     %timeit -n 10 search.findFrame(test_set[0], training_set, cv2.HISTCMP_CORREL, channels=ch)"
   ]
  },
  {
   "cell_type": "code",
   "execution_count": 127,
   "metadata": {},
   "outputs": [
    {
     "name": "stdout",
     "output_type": "stream",
     "text": [
      "Searching segment 100/100"
     ]
    }
   ],
   "source": [
    "results = []\n",
    "\n",
    "for i, histogram in enumerate(test_set):\n",
    "    print(\"\\rSearching segment {}/{}\".format(i+1, len(test_set), len(histogram)), end='', flush=True)\n",
    "    \n",
    "    results.append(search.findFrame(histogram[0], training_set, cv2.HISTCMP_CHISQR_ALT, 2, warnings = False))"
   ]
  },
  {
   "cell_type": "markdown",
   "metadata": {},
   "source": [
    "## Evaluate performance"
   ]
  },
  {
   "cell_type": "code",
   "execution_count": 129,
   "metadata": {},
   "outputs": [
    {
     "name": "stdout",
     "output_type": "stream",
     "text": [
      "TEST RESULTS\n",
      "\n",
      "Num. Vid 200 - Grid 2 - Bins [180, 256] - Skip 20\n",
      "\n",
      "Correct video:                   94 / 100 (94.0%)\n",
      "Inside fragment:                 89 / 94 (94.7%)\n",
      "Average distance to start frame: 93 +/- 102 frames (approx. 3.7 sec)\n"
     ]
    }
   ],
   "source": [
    "movie_results, start_frame_dist = evaluate(results, labels)\n",
    "\n",
    "fractions = (movie_results[0] / movie_results[2]*100 if movie_results[2] > 0 else 0, movie_results[1] / movie_results[0]*100 if movie_results[0] > 0 else 0)\n",
    "\n",
    "print(\"TEST RESULTS\\n\")\n",
    "\n",
    "printParams()\n",
    "print(\"\\nCorrect video:                   {:d} / {:d} ({:.1f}%)\".format(movie_results[0], movie_results[2], fractions[0]))\n",
    "print(\"Inside fragment:                 {:d} / {:d} ({:.1f}%)\".format(movie_results[1], movie_results[0], fractions[1]))\n",
    "print(\"Average distance to start frame: {:.0f} +/- {:.0f} frames (approx. {:.1f} sec)\".format(start_frame_dist[0], start_frame_dist[1], start_frame_dist[0]/25))"
   ]
  }
 ],
 "metadata": {
  "kernelspec": {
   "display_name": "Python 3",
   "language": "python",
   "name": "python3"
  },
  "language_info": {
   "codemirror_mode": {
    "name": "ipython",
    "version": 3
   },
   "file_extension": ".py",
   "mimetype": "text/x-python",
   "name": "python",
   "nbconvert_exporter": "python",
   "pygments_lexer": "ipython3",
   "version": "3.7.3"
  }
 },
 "nbformat": 4,
 "nbformat_minor": 2
}
