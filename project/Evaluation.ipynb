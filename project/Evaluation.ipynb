{
 "cells": [
  {
   "cell_type": "markdown",
   "metadata": {},
   "source": [
    "# Evaluation"
   ]
  },
  {
   "cell_type": "code",
   "execution_count": 1,
   "metadata": {},
   "outputs": [],
   "source": [
    "%load_ext autoreload\n",
    "%autoreload 2"
   ]
  },
  {
   "cell_type": "code",
   "execution_count": 2,
   "metadata": {},
   "outputs": [],
   "source": [
    "import pandas as pd\n",
    "import numpy as np\n",
    "from src import preprocess as prep\n",
    "from src.evaluation import evaluate_segments\n",
    "import random\n",
    "from src.Video import Video\n",
    "from src.Segment import Segment\n",
    "from src import search\n",
    "import cv2"
   ]
  },
  {
   "cell_type": "markdown",
   "metadata": {},
   "source": [
    "## Parameters"
   ]
  },
  {
   "cell_type": "code",
   "execution_count": 55,
   "metadata": {},
   "outputs": [
    {
     "name": "stdout",
     "output_type": "stream",
     "text": [
      "Loading / processing dataset...\n",
      "Done processing!TRAINING SET:\n",
      "Num. videos:   20\n",
      "Num. segments: 2198\n",
      "Duration:      7,556.4 s\n",
      "Num frames:      210264\n",
      "Num histograms:      11702\n"
     ]
    }
   ],
   "source": [
    "NUM_VIDEOS = 20\n",
    "GRID_SIZE = 2\n",
    "BINS = [180, 180]\n",
    "HIST_FRAME_SKIP = 20\n",
    "REFRESH = True"
   ]
  },
  {
   "cell_type": "markdown",
   "metadata": {},
   "source": [
    "## Load training set"
   ]
  },
  {
   "cell_type": "code",
   "execution_count": 416,
   "metadata": {},
   "outputs": [
    {
     "name": "stdout",
     "output_type": "stream",
     "text": [
      "Loading / processing dataset...\n",
      "Done processing!"
     ]
    }
   ],
   "source": [
    "training_set = prep.load_training_set(range(1, NUM_VIDEOS+1), GRID_SIZE, BINS, HIST_FRAME_SKIP, force_refresh=REFRESH)"
   ]
  },
  {
   "cell_type": "code",
   "execution_count": 417,
   "metadata": {},
   "outputs": [
    {
     "name": "stdout",
     "output_type": "stream",
     "text": [
      "TRAINING SET:\n",
      "Num. videos:   2\n",
      "Num. segments: 189\n",
      "Duration:      529.7 s\n",
      "Num frames:      14542\n",
      "Num histograms:      827\n"
     ]
    }
   ],
   "source": [
    "# Print statistics\n",
    "print(\"TRAINING SET:\")\n",
    "print(\"Num. videos:   {:d}\".format( len(training_set)) )\n",
    "print(\"Num. segments: {:d}\".format( np.sum([len(video.segments) for video in training_set])) )\n",
    "print(\"Duration:      {:,.1f} s\".format( np.sum([np.sum([segment.duration() for segment in video.segments]) for video in training_set])) )\n",
    "print(\"Num frames:      {:d}\".format( np.sum([np.sum([segment.num_frames() for segment in video.segments]) for video in training_set])) )\n",
    "print(\"Num histograms:      {:d}\".format( np.sum([np.sum([len(segment.histograms) for segment in video.segments]) for video in training_set])) )"
   ]
  },
  {
   "cell_type": "markdown",
   "metadata": {},
   "source": [
    "## Select random test set"
   ]
  },
  {
   "cell_type": "code",
   "execution_count": 57,
   "metadata": {},
   "outputs": [],
   "source": [
    "test_n_segments = 100\n",
    "test_set = []\n",
    "labels = []\n",
    "\n",
    "for i in range(test_n_segments):\n",
    "    \n",
    "    # Find random video\n",
    "    video = random.choice(training_set)\n",
    "    \n",
    "    # Select random segment and add histogram to test set\n",
    "    segment = random.choice(video.segments)\n",
    "    test_set.append(segment.histograms)\n",
    "    labels.append(segment)"
   ]
  },
  {
   "cell_type": "code",
   "execution_count": 63,
   "metadata": {},
   "outputs": [
    {
     "name": "stdout",
     "output_type": "stream",
     "text": [
      "TEST SET:\n",
      "Num. histograms: 630\n"
     ]
    }
   ],
   "source": [
    "# Print statistics\n",
    "print(\"TEST SET:\")\n",
    "print(\"Num. histograms: {:d}\".format( np.sum([len(histogram) for histogram in test_set]) ))"
   ]
  },
  {
   "cell_type": "markdown",
   "metadata": {},
   "source": [
    "<br>"
   ]
  },
  {
   "cell_type": "markdown",
   "metadata": {},
   "source": [
    "## Run model on test set"
   ]
  },
  {
   "cell_type": "code",
   "execution_count": 78,
   "metadata": {},
   "outputs": [
    {
     "name": "stdout",
     "output_type": "stream",
     "text": [
      "4.36 s ± 31.3 ms per loop (mean ± std. dev. of 7 runs, 1 loop each)\n",
      "3.66 s ± 35 ms per loop (mean ± std. dev. of 7 runs, 1 loop each)\n",
      "5.29 s ± 59.3 ms per loop (mean ± std. dev. of 7 runs, 1 loop each)\n",
      "4.05 s ± 24.7 ms per loop (mean ± std. dev. of 7 runs, 1 loop each)\n",
      "4.12 s ± 26.9 ms per loop (mean ± std. dev. of 7 runs, 1 loop each)\n",
      "4.35 s ± 37.9 ms per loop (mean ± std. dev. of 7 runs, 1 loop each)\n",
      "3.22 s ± 46.1 ms per loop (mean ± std. dev. of 7 runs, 1 loop each)\n"
     ]
    }
   ],
   "source": [
    "%timeit search.findFrame(test_set[0], 0, training_set, cv2.HISTCMP_CORREL)\n",
    "%timeit search.findFrame(test_set[0], 0, training_set, cv2.HISTCMP_CHISQR)\n",
    "%timeit search.findFrame(test_set[0], 0, training_set, cv2.HISTCMP_INTERSECT)\n",
    "%timeit search.findFrame(test_set[0], 0, training_set, cv2.HISTCMP_BHATTACHARYYA)\n",
    "%timeit search.findFrame(test_set[0], 0, training_set, cv2.HISTCMP_CHISQR_ALT)\n",
    "%timeit search.findFrame(test_set[0], 0, training_set, cv2.HISTCMP_KL_DIV)\n",
    "\n",
    "%timeit search.findFrame(test_set[0], 0, training_set, cv2.HISTCMP_KL_DIV, 5)\n",
    "\n",
    "# %timeit search.find(test_set[0], training_set, cv2.HISTCMP_CORREL)\n",
    "# %timeit search.find(test_set[0], training_set, cv2.HISTCMP_CHISQR)\n",
    "# %timeit search.find(test_set[0], training_set, cv2.HISTCMP_INTERSECT)\n",
    "# %timeit search.find(test_set[0], training_set, cv2.HISTCMP_BHATTACHARYYA)\n",
    "# %timeit search.find(test_set[0], training_set, cv2.HISTCMP_CHISQR_ALT)\n",
    "# %timeit search.find(test_set[0], training_set, cv2.HISTCMP_KL_DIV)"
   ]
  },
  {
   "cell_type": "code",
   "execution_count": 67,
   "metadata": {},
   "outputs": [
    {
     "name": "stdout",
     "output_type": "stream",
     "text": [
      "Searching segment 100/100 - Frames in segment 2"
     ]
    }
   ],
   "source": [
    "results = []\n",
    "\n",
    "for i, histograms in enumerate(test_set):\n",
    "    print('\\rSearching segment {}/{} - Frames in segment: {}'.format(i+1, len(test_set), len(histograms)), end='', flush=True)\n",
    "\n",
    "#     results.append(search.find(histogram, training_set, cv2.HISTCMP_INTERSECT))\n",
    "    results.append(search.findFrame(histograms,  0, training_set, cv2.HISTCMP_INTERSECT))"
   ]
  },
  {
   "cell_type": "markdown",
   "metadata": {},
   "source": [
    "## Evaluate performance"
   ]
  },
  {
   "cell_type": "code",
   "execution_count": 79,
   "metadata": {},
   "outputs": [
    {
     "name": "stdout",
     "output_type": "stream",
     "text": [
      "Segment evaluation:\n",
      "Correct: 96\n",
      "Wrong:   4\n",
      "Total:   100\n",
      "TPR:     96.0%\n"
     ]
    }
   ],
   "source": [
    "evaluate_segments(results, labels)"
   ]
  },
  {
   "cell_type": "code",
   "execution_count": 37,
   "metadata": {},
   "outputs": [
    {
     "data": {
      "text/plain": [
       "3"
      ]
     },
     "metadata": {},
     "output_type": "display_data"
    },
    {
     "name": "stdout",
     "output_type": "stream",
     "text": [
      "best_dist_indices [array([ 45,  62,  31,  68,  72, 109,  90,   5,  93,   0]), array([10, 34, 23, 24,  3, 33,  2, 72, 73, 21])]\n",
      "video 00001 - segment 5\n"
     ]
    },
    {
     "data": {
      "text/plain": [
       "<Segment[00001.mp4, start=8.0 sec, end=10.0 sec, duration=2.0 sec, num_frames=49]>"
      ]
     },
     "execution_count": 37,
     "metadata": {},
     "output_type": "execute_result"
    }
   ],
   "source": [
    "hists = training_set[0].segments[5].histograms\n",
    "display(len(hists))\n",
    "# 0 = altijd perfect match\n",
    "tf = 1\n",
    "search.findFrame(hists, tf, training_set, cv2.HISTCMP_INTERSECT, prints=True)\n"
   ]
  },
  {
   "cell_type": "code",
   "execution_count": null,
   "metadata": {},
   "outputs": [],
   "source": []
  }
 ],
 "metadata": {
  "kernelspec": {
   "display_name": "Python 3",
   "language": "python",
   "name": "python3"
  },
  "language_info": {
   "codemirror_mode": {
    "name": "ipython",
    "version": 3
   },
   "file_extension": ".py",
   "mimetype": "text/x-python",
   "name": "python",
   "nbconvert_exporter": "python",
   "pygments_lexer": "ipython3",
   "version": "3.7.3"
  }
 },
 "nbformat": 4,
 "nbformat_minor": 2
}
