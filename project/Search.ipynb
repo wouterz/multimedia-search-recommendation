{
 "cells": [
  {
   "cell_type": "code",
   "execution_count": 2,
   "metadata": {},
   "outputs": [
    {
     "name": "stdout",
     "output_type": "stream",
     "text": [
      "The autoreload extension is already loaded. To reload it, use:\n",
      "  %reload_ext autoreload\n"
     ]
    }
   ],
   "source": [
    "%load_ext autoreload\n",
    "%autoreload 2"
   ]
  },
  {
   "cell_type": "code",
   "execution_count": 10,
   "metadata": {},
   "outputs": [],
   "source": [
    "import pandas as pd\n",
    "import numpy as np\n",
    "\n",
    "from src.VideoReader import VideoReader\n",
    "from src.Video import Video\n",
    "from src.histograms import compute_histograms\n",
    "from src import preprocess as prep\n",
    "import cv2\n",
    "import os"
   ]
  },
  {
   "cell_type": "code",
   "execution_count": 151,
   "metadata": {},
   "outputs": [],
   "source": [
    "def find(target, videos):\n",
    "    video_path = os.path.join(target + \".mp4\")\n",
    "    target_video = VideoReader()\n",
    "    target_video.open(video_path)\n",
    "    frames = target_video.get_frames()\n",
    "    \n",
    "#     todo: average per novelty section in video?\n",
    "    first_frame = list(frames)[videos[0].segments[2].frame_start]\n",
    "    \n",
    "    target_histograms = compute_histograms(first_frame)\n",
    "    \n",
    "    distances = []\n",
    "    for video in videos:\n",
    "        segment_dist = []       \n",
    "        for segment in video.segments:\n",
    "            dist = 0\n",
    "            for h in range(len(segment.histograms[0])):\n",
    "#                   Method kiezen, voor nu intersection\n",
    "                dist += cv2.compareHist(target_histograms[0][h], segment.histograms[0][h], cv2.HISTCMP_INTERSECT)\n",
    "            segment_dist.append(dist)\n",
    "        \n",
    "        distances.append(segment_dist)\n",
    "    \n",
    "\n",
    "    best_dist_indices = []\n",
    "    for d in distances:\n",
    "        best_dist_indices.append(np.argpartition(d, -5)[-5:])\n",
    "    \n",
    "    sub_distances = []\n",
    "    i = 0\n",
    "    for video in videos:\n",
    "        segment_dist = []       \n",
    "        for segment_index in best_dist_indices[i]:\n",
    "            segment = video.segments[segment_index]\n",
    "            \n",
    "            dist = 0\n",
    "            for i_sub_hist in range(1,5):\n",
    "                nr_hists = len(target_histograms[0])\n",
    "                for h in range(nr_hists):\n",
    "                    dist += cv2.compareHist(target_histograms[i_sub_hist][h], segment.histograms[i_sub_hist][h], cv2.HISTCMP_INTERSECT)\n",
    "                \n",
    "            segment_dist.append(dist)    \n",
    "        sub_distances.append(segment_dist)\n",
    "        i = i + 1\n",
    "\n",
    "    # Find index of maximum value in matrix\n",
    "    result = np.where(sub_distances == np.amax(sub_distances))\n",
    "    print(result)\n",
    "    match_vid = result[0][0]\n",
    "    match_seg = best_dist_indices[result[0][0]][result[1][0]]\n",
    "    print('video {} - segment {}'.format(match_vid, match_seg))\n",
    "\n",
    "\n",
    "    "
   ]
  },
  {
   "cell_type": "code",
   "execution_count": 152,
   "metadata": {},
   "outputs": [],
   "source": [
    "# vid1 = prep.process_video(\"00001\")\n",
    "# vid2 = prep.process_video(\"00002\")"
   ]
  },
  {
   "cell_type": "code",
   "execution_count": 153,
   "metadata": {},
   "outputs": [
    {
     "name": "stdout",
     "output_type": "stream",
     "text": [
      "(array([0]), array([3]))\n",
      "video 0 - segment 2\n"
     ]
    }
   ],
   "source": [
    "find(r'data/movies/00001', [vid1, vid2])\n"
   ]
  },
  {
   "cell_type": "code",
   "execution_count": null,
   "metadata": {},
   "outputs": [],
   "source": []
  }
 ],
 "metadata": {
  "kernelspec": {
   "display_name": "Python 3",
   "language": "python",
   "name": "python3"
  },
  "language_info": {
   "codemirror_mode": {
    "name": "ipython",
    "version": 3
   },
   "file_extension": ".py",
   "mimetype": "text/x-python",
   "name": "python",
   "nbconvert_exporter": "python",
   "pygments_lexer": "ipython3",
   "version": "3.7.3"
  }
 },
 "nbformat": 4,
 "nbformat_minor": 2
}
