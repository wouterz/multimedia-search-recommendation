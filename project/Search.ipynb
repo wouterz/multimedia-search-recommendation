{
 "cells": [
  {
   "cell_type": "code",
   "execution_count": 1,
   "metadata": {},
   "outputs": [],
   "source": [
    "%load_ext autoreload\n",
    "%autoreload 2"
   ]
  },
  {
   "cell_type": "code",
   "execution_count": 12,
   "metadata": {},
   "outputs": [],
   "source": [
    "import cv2\n",
    "import src.preprocess as prep\n",
    "from src import search"
   ]
  },
  {
   "cell_type": "code",
   "execution_count": 6,
   "metadata": {},
   "outputs": [
    {
     "name": "stdout",
     "output_type": "stream",
     "text": [
      "Cannot open video 00000.mp4 -- File does not exist.\n",
      "processing 00199\r"
     ]
    }
   ],
   "source": [
    "vids = prep.load_training_set(range(200))\n",
    "vids_list = list(vids)"
   ]
  },
  {
   "cell_type": "code",
   "execution_count": 20,
   "metadata": {
    "scrolled": false
   },
   "outputs": [
    {
     "name": "stdout",
     "output_type": "stream",
     "text": [
      "video 00005 - segment 1\n",
      "video 00005 - segment 2\n",
      "video 00005 - segment 3\n",
      "video 00005 - segment 4\n",
      "video 00005 - segment 5\n",
      "video 00005 - segment 6\n",
      "video 00005 - segment 7\n",
      "video 00005 - segment 8\n",
      "video 00005 - segment 9\n",
      "video 00005 - segment 10\n",
      "video 00005 - segment 11\n",
      "video 00005 - segment 12\n",
      "video 00005 - segment 13\n",
      "video 00005 - segment 14\n",
      "video 00005 - segment 15\n",
      "video 00005 - segment 16\n",
      "video 00005 - segment 17\n",
      "video 00005 - segment 18\n",
      "video 00005 - segment 19\n"
     ]
    }
   ],
   "source": [
    "\n",
    "for i in range(1,20):\n",
    "    search.find(vids_list[4].segments[i].histograms, vids_list, cv2.HISTCMP_CORREL, True)"
   ]
  },
  {
   "cell_type": "code",
   "execution_count": null,
   "metadata": {},
   "outputs": [],
   "source": []
  }
 ],
 "metadata": {
  "kernelspec": {
   "display_name": "Python 3",
   "language": "python",
   "name": "python3"
  },
  "language_info": {
   "codemirror_mode": {
    "name": "ipython",
    "version": 3
   },
   "file_extension": ".py",
   "mimetype": "text/x-python",
   "name": "python",
   "nbconvert_exporter": "python",
   "pygments_lexer": "ipython3",
   "version": "3.7.3"
  }
 },
 "nbformat": 4,
 "nbformat_minor": 2
}
