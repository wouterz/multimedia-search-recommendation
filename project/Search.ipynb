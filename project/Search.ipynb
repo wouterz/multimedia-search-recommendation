{
 "cells": [
  {
   "cell_type": "code",
   "execution_count": 2,
   "metadata": {},
   "outputs": [
    {
     "name": "stdout",
     "output_type": "stream",
     "text": [
      "/home/student/cs4065/lib/python35.zip\n",
      "/home/student/cs4065/lib/python3.5\n",
      "/home/student/cs4065/lib/python3.5/plat-x86_64-linux-gnu\n",
      "/home/student/cs4065/lib/python3.5/lib-dynload\n",
      "/usr/lib/python3.5\n",
      "/usr/lib/python3.5/plat-x86_64-linux-gnu\n",
      "\n",
      "/home/student/cs4065/lib/python3.5/site-packages\n",
      "/home/student/cs4065/lib/python3.5/site-packages/IPython/extensions\n",
      "/home/student/.ipython\n",
      "/home/student/pylib/cs4065\n"
     ]
    }
   ],
   "source": [
    "%load_ext autoreload\n",
    "%autoreload 2\n",
    "\n",
    "import os, sys\n",
    "# sys.path.append(os.getcwd())\n",
    "\n",
    "for line in sys.path:\n",
    "     print(line)"
   ]
  },
  {
   "cell_type": "code",
   "execution_count": 3,
   "metadata": {},
   "outputs": [
    {
     "ename": "SyntaxError",
     "evalue": "invalid syntax (Video.py, line 5)",
     "output_type": "error",
     "traceback": [
      "Traceback \u001b[0;36m(most recent call last)\u001b[0m:\n",
      "  File \u001b[1;32m\"/home/student/cs4065/lib/python3.5/site-packages/IPython/core/interactiveshell.py\"\u001b[0m, line \u001b[1;32m3296\u001b[0m, in \u001b[1;35mrun_code\u001b[0m\n    exec(code_obj, self.user_global_ns, self.user_ns)\n",
      "\u001b[0;36m  File \u001b[0;32m\"<ipython-input-3-49858172f5f7>\"\u001b[0;36m, line \u001b[0;32m5\u001b[0;36m, in \u001b[0;35m<module>\u001b[0;36m\u001b[0m\n\u001b[0;31m    from src.Video import Video\u001b[0m\n",
      "\u001b[0;36m  File \u001b[0;32m\"/home/student/project/src/Video.py\"\u001b[0;36m, line \u001b[0;32m5\u001b[0m\n\u001b[0;31m    segments: list\u001b[0m\n\u001b[0m            ^\u001b[0m\n\u001b[0;31mSyntaxError\u001b[0m\u001b[0;31m:\u001b[0m invalid syntax\n"
     ]
    }
   ],
   "source": [
    "import pandas as pd\n",
    "import numpy as np\n",
    "\n",
    "from src.VideoReader import VideoReader\n",
    "from src.Video import Video\n",
    "from src.histograms import compute_histograms\n",
    "from src import preprocess as prep\n",
    "import cv2\n",
    "import os"
   ]
  },
  {
   "cell_type": "code",
   "execution_count": 122,
   "metadata": {},
   "outputs": [],
   "source": [
    "def find(target, videos):\n",
    "    video_path = os.path.join(target + \".mp4\")\n",
    "    target_video = VideoReader()\n",
    "    target_video.open(video_path)\n",
    "    frames = target_video.get_frames()\n",
    "#     todo: average per novelty section in video?\n",
    "    first_frame = next(frames)\n",
    "    \n",
    "    target_histograms = compute_histograms(first_frame)\n",
    "    \n",
    "    distances = []\n",
    "    for video in videos:\n",
    "        segment_dist = []\n",
    "        for segment in video.segments:\n",
    "#             zoiets? snap de tuple niet helemaal\n",
    "#             hist = segment.get_hist((1,0))\n",
    "            hist = target_histograms[0]\n",
    "    \n",
    "            dist = 0\n",
    "            for h in range(len(hist)):\n",
    "#                   Method kiezen\n",
    "                dist += cv2.compareHist(target_histograms[0][h], hist, cv2.HISTCMP_INTERSECT)\n",
    "            segment_dist.append(dist)\n",
    "        \n",
    "        distance.append(segment_dist)\n",
    "    \n",
    "    for video in videos:\n",
    "        for segment in video.segments:\n",
    "            for i_sub_hist in range(1,5):\n",
    "                nr_hists = len(target_histograms[0])\n",
    "                \n",
    "                dist = 0\n",
    "                for h in range(nr_hists):\n",
    "#                     tuple?\n",
    "                    segment_sub_hist = segment.get_hist((0,0))\n",
    "#                   Method kiezen\n",
    "                    dist += cv2.compareHist(target_histograms[i_sub_hist][h], segment_sub_hist, cv2.HISTCMP_INTERSECT)\n",
    "            \n",
    "        \n",
    "\n",
    "# vid = prep.process_video(\"00001\")\n",
    "\n",
    "find(r'data/movies/00001', [])"
   ]
  },
  {
   "cell_type": "code",
   "execution_count": null,
   "metadata": {},
   "outputs": [],
   "source": []
  },
  {
   "cell_type": "code",
   "execution_count": null,
   "metadata": {},
   "outputs": [],
   "source": []
  }
 ],
 "metadata": {
  "kernelspec": {
   "display_name": "Python 3",
   "language": "python",
   "name": "python3"
  }
 },
 "nbformat": 4,
 "nbformat_minor": 2
}
